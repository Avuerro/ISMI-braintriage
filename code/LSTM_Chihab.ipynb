{
 "cells": [
  {
   "cell_type": "markdown",
   "metadata": {},
   "source": [
    "# Braintriage challenge example"
   ]
  },
  {
   "cell_type": "markdown",
   "metadata": {},
   "source": [
    "# Import packages\n",
    "Here we import important packages. Add any packages you need."
   ]
  },
  {
   "cell_type": "code",
   "execution_count": 31,
   "metadata": {},
   "outputs": [],
   "source": [
    "import torch\n",
    "import torch.nn as nn\n",
    "import torch.nn.functional as F\n",
    "from torch.utils import data\n",
    "import os\n",
    "import SimpleITK as sitk\n",
    "import matplotlib\n",
    "import matplotlib.pyplot as plt\n",
    "import numpy as np\n",
    "import math as math\n",
    "import csv\n",
    "\n",
    "from tqdm.notebook import tqdm\n",
    "import pdb"
   ]
  },
  {
   "cell_type": "markdown",
   "metadata": {},
   "source": [
    "# Create dataset\n",
    "We only have to extract the slices once so I decide to extract all slices. The resolution is 512x512x32 so we can assume each patient has 32 slices.\n",
    "\n",
    "## output will be 65 gb....\n"
   ]
  },
  {
   "cell_type": "code",
   "execution_count": null,
   "metadata": {},
   "outputs": [],
   "source": [
    "in_dir = '../../data/full'\n",
    "out_dir = '../../data_sliced'\n",
    "\n",
    "\n",
    "if not os.path.exists(out_dir):\n",
    "    os.makedirs(out_dir)\n",
    "\n",
    "total_index = 0\n",
    "           \n",
    "for klass in os.listdir(in_dir):\n",
    "    for patient in os.listdir(os.path.join(in_dir, klass)):\n",
    "\n",
    "        ## Check if patient has not been processed yet\n",
    "        out_path = os.path.join(out_dir, patient+'.pt')\n",
    "        if not os.path.exists(out_path):\n",
    "\n",
    "            ## Paths to the image files\n",
    "            t1_path = os.path.join(in_dir,klass,patient,'T1.mha')\n",
    "            t2_path = os.path.join(in_dir,klass,patient,'T2.mha')\n",
    "            t2_flair_path = os.path.join(in_dir,klass,patient,'T2-FLAIR.mha')\n",
    "\n",
    "            ## Load all images\n",
    "            t1_image = sitk.ReadImage(t1_path)\n",
    "            t2_image = sitk.ReadImage(t2_path)\n",
    "            t2_flair_image = sitk.ReadImage(t2_flair_path)\n",
    "\n",
    "            ## Check if the number of slices is equal in all series\n",
    "            if t1_image.GetSize()[-1] == t2_image.GetSize()[-1] == t2_flair_image.GetSize()[-1]:\n",
    "\n",
    "                ## Instead of the center slice of an image we would like to have all slices\n",
    "                ## We can decide later which slices to actually use for training...\n",
    "                \n",
    "                ## better to have lots of small files than one big file ?\n",
    "                \n",
    "                nr_of_slices = t1_image.GetSize()[-1]\n",
    "                for slice_number in range(nr_of_slices):\n",
    "                    ## continuously opening and closing file?\n",
    "                    with open(out_dir+'/labels_slices.csv', 'a') as csvfile:\n",
    "                        w = csv.writer(csvfile, delimiter=',')\n",
    "                        if klass == 'normal':\n",
    "                            w.writerow([total_index,patient,slice_number ,0])\n",
    "                        elif klass == 'abnormal':\n",
    "                            w.writerow([total_index,patient,slice_number ,1])\n",
    "\n",
    "                \n",
    "                    ## Convert the images to numpy arrays\n",
    "                    t1_array = sitk.GetArrayFromImage(t1_image)\n",
    "                    t2_array = sitk.GetArrayFromImage(t2_image)\n",
    "                    t2_flair_array = sitk.GetArrayFromImage(t2_flair_image)\n",
    "\n",
    "                    ## Extract the center slices from the images\n",
    "                    t1_slice = t1_array[slice_number,:,:]\n",
    "                    t2_slice = t2_array[slice_number,:,:]\n",
    "                    t2_flair_slice = t2_flair_array[slice_number,:,:]\n",
    "\n",
    "                    ## Create one data array\n",
    "                    comb_data = np.zeros((3,512,512))\n",
    "                    comb_data[0,:,:] = t1_slice\n",
    "                    comb_data[1,:,:] = t2_slice\n",
    "                    comb_data[2,:,:] = t2_flair_slice\n",
    "                    ## Save as torch tensor for quick loading during training\n",
    "                    torch.save(torch.from_numpy(comb_data.astype('float32')),out_dir+'/' +patient+ '_' + str(slice_number) +'.pt')\n",
    "\n",
    "                    ## TODO use tqdm \n",
    "                    print(\"Slice  {} saved for: {} \".format(slice_number,patient))\n",
    "\n",
    "                    del t1_array, t2_array, t2_flair_array\n",
    "                    total_index+=1\n",
    "            else:\n",
    "                print(\"Number of slices not equal for:\", patient)\n",
    "                del t1_image, t2_image, t2_flair_image\n",
    "        else:\n",
    "            continue"
   ]
  },
  {
   "cell_type": "code",
   "execution_count": null,
   "metadata": {},
   "outputs": [],
   "source": []
  },
  {
   "cell_type": "code",
   "execution_count": null,
   "metadata": {},
   "outputs": [],
   "source": []
  },
  {
   "cell_type": "markdown",
   "metadata": {},
   "source": [
    "We create a dataset class that is compatible with the 'data_loader' from PyTorch. This allows us to feed our images to the network efficiently during training and validation. We read the labels for the different patients from a CSV file and convert this into a dictionary. Based on these labels we split the data in a training and validation set (you can choose a different ratio)."
   ]
  },
  {
   "cell_type": "code",
   "execution_count": 247,
   "metadata": {},
   "outputs": [],
   "source": [
    "### Define custom dataset class ###\n",
    "\n",
    "\n",
    "class Dataset(data.Dataset):\n",
    "  #'Characterizes a dataset for PyTorch'\n",
    "    def __init__(self, list_IDs, patient_numbers,slice_numbers, labels, location):\n",
    "        'Initialization'\n",
    "        self.labels = labels\n",
    "        self.list_IDs = list_IDs\n",
    "        self.patient_numbers = patient_numbers\n",
    "        self.slice_numbers = slice_numbers\n",
    "        self.loc = location\n",
    "\n",
    "    def __len__(self):\n",
    "        'Denotes the total number of samples'\n",
    "        return len(self.list_IDs)\n",
    "\n",
    "    def __getitem__(self, index):\n",
    "        'Generates one sample of data'\n",
    "        # Select sample\n",
    "        ID = self.list_IDs[index]\n",
    "\n",
    "        # Load data and get label\n",
    "        patient = self.patient_numbers[ID]\n",
    "        slice_number = self.slice_numbers[ID]\n",
    "        X = torch.load(self.loc + '/' + patient + '_' + slice_number + '.pt')#/2749\n",
    "        y = torch.FloatTensor([self.labels[ID]])\n",
    "        \n",
    "        return X, y\n",
    "\n",
    "### Specify data directory ###    \n",
    "data_dir =  '../../data_sliced'\n",
    "\n",
    "### Load labels and convert to dict ###\n",
    "labelsn = {}\n",
    "labelsa = {}\n",
    "## I have added these to make loading the correct slice in the dataloader more straightforward\n",
    "\n",
    "patient_numbers = {}\n",
    "slice_numbers = {}\n",
    "\n",
    "n=0\n",
    "a=0\n",
    "\n",
    "## we added total indices to the csv file, we can use this as our main index instead of patient \n",
    "with open(data_dir + '/labels_slices_z_alt_z.csv', 'r') as csvfile:\n",
    "    reader = csv.reader(csvfile)\n",
    "    ## 4 columns: total_index, patient,slice,class\n",
    "    for rows in reader: \n",
    "#         print(float(rows[3]) == 0 )\n",
    "        if float(rows[3]) == 0 and n < 500:\n",
    "            n = n + 1\n",
    "            labelsn[rows[0]] = float(rows[3])\n",
    "            patient_numbers[rows[0]] = rows[1]\n",
    "            slice_numbers[rows[0]] = rows[2]\n",
    "        elif float(rows[3]) == 1 and a < 500:\n",
    "            a = a + 1\n",
    "            labelsa[rows[0]] = float(rows[3])\n",
    "            patient_numbers[rows[0]] = rows[1]\n",
    "            slice_numbers[rows[0]] = rows[2]\n",
    "labels = {**labelsn,**labelsa}\n",
    "\n",
    "\n",
    "# with open(data_dir+'/labels_slices_z.csv', 'r') as csvfile:\n",
    "#     reader = csv.reader(csvfile)\n",
    "#     for rows in reader:\n",
    "#         if float(rows[1])==0 and n<500:\n",
    "#             n = n+1\n",
    "#             labelsn[rows[0]] = float(rows[1])\n",
    "#         elif float(rows[1])==1 and a<500:\n",
    "#             a = a+1\n",
    "#             labelsa[rows[0]] = float(rows[1])\n",
    "# labels = {**labelsn,**labelsa}\n",
    "            \n",
    "### Based on the labels, split data in training and validation set ###\n",
    "IDn = np.asarray(list(labelsn.keys()))\n",
    "IDa = np.asarray(list(labelsa.keys()))\n",
    "n_samples = IDa.shape[0]\n",
    "\n",
    "IDn = IDn[np.random.permutation(n_samples)]\n",
    "IDa = IDa[np.random.permutation(n_samples)]\n",
    "\n",
    "data_sets = {}\n",
    "data_sets['train'] = np.concatenate((IDn[:int(0.8*n_samples)],IDa[:int(0.8*n_samples)]))\n",
    "data_sets['validation'] = np.concatenate((IDn[int(0.8*n_samples):],IDa[int(0.8*n_samples):]))\n",
    "\n",
    "training_set = Dataset(data_sets['train'], patient_numbers,slice_numbers, labels, data_dir)\n",
    "validation_set = Dataset(data_sets['validation'],patient_numbers,slice_numbers, labels, data_dir)\n"
   ]
  },
  {
   "cell_type": "code",
   "execution_count": null,
   "metadata": {},
   "outputs": [],
   "source": []
  },
  {
   "cell_type": "code",
   "execution_count": null,
   "metadata": {},
   "outputs": [],
   "source": []
  },
  {
   "cell_type": "markdown",
   "metadata": {},
   "source": [
    "You can visually inspect the data by making a plot of a scan."
   ]
  },
  {
   "cell_type": "code",
   "execution_count": null,
   "metadata": {
    "scrolled": true
   },
   "outputs": [],
   "source": [
    "import matplotlib\n",
    "import matplotlib.pyplot as plt\n",
    "\n",
    "X = torch.load(data_dir + '/' + '16' + '.pt')#/2749\n",
    "\n",
    "plt.figure()\n",
    "plt.imshow(X.data.numpy()[2,:,:])"
   ]
  },
  {
   "cell_type": "markdown",
   "metadata": {},
   "source": [
    "## Some visual inspection of the slides"
   ]
  },
  {
   "cell_type": "code",
   "execution_count": 276,
   "metadata": {},
   "outputs": [],
   "source": [
    "def plot_slices(patient,range_of_slices):\n",
    "\n",
    "    if type(range_of_slices) == tuple:\n",
    "        assert range_of_slices[0] < range_of_slices[1]\n",
    "        size_of_range = range_of_slices[1] - range_of_slices[0]\n",
    "        nr_of_rows = size_of_range // 4 + 1\n",
    "        nr_of_cols = 4 # max 4 plots per row \n",
    "\n",
    "        subplots_to_delete = (4 - size_of_range%4) - 1 ## subplots of last row that will turn out empty..\n",
    "        \n",
    "        fig,axs = plt.subplots(nr_of_rows,nr_of_cols, figsize=(16,16))\n",
    "        for index,slice_number in enumerate(range(range_of_slices[0],range_of_slices[1]+1)): #inclusive..\n",
    "            X = torch.load(data_dir + '/' + str(patient) + '_' + str(slice_number) + '.pt')\n",
    "            if nr_of_rows > 1:\n",
    "                axes = axs[ index//4 , index%4 ]\n",
    "            else:\n",
    "                axes = axs[index]\n",
    "            axes.imshow(X.data.numpy()[2,:,:])\n",
    "            axes.set_title(\"Patient {} slice number {}\".format(patient,slice_number))\n",
    "            \n",
    "        # make sure we don't have these empty white subplots\n",
    "        for empty_subplot in range(3, 4 - subplots_to_delete - 1, -1):\n",
    "            fig.delaxes(axs[nr_of_rows-1][empty_subplot])\n",
    "        fig.subplots_adjust(top=0.92, bottom=0.08, left=0.10, right=0.95, hspace=.65,\n",
    "                    wspace=0.35)\n",
    "    else:\n",
    "        slice_number =range_of_slices\n",
    "        X=torch.load(data_dir + '/' + str(patient) + '_' + str(slice_number) + '.pt')\n",
    "\n",
    "        plt.figure()\n",
    "        plt.imshow(X.data.numpy()[2,:,:]) \n",
    "        plt.title(\"Patient {} slice number {}\".format(patient,slice_number))\n",
    "    plt.show()\n",
    "\n",
    "    \n",
    "\n",
    "    "
   ]
  },
  {
   "cell_type": "code",
   "execution_count": null,
   "metadata": {},
   "outputs": [],
   "source": []
  },
  {
   "cell_type": "code",
   "execution_count": 279,
   "metadata": {},
   "outputs": [
    {
     "data": {
      "image/png": "[encoded data removed]",
      "text/plain": [
       "<Figure size 1152x1152 with 4 Axes>"
      ]
     },
     "metadata": {
      "needs_background": "light"
     },
     "output_type": "display_data"
    }
   ],
   "source": [
    "data_dir = '../../data_test'\n",
    "\n",
    "plot_slices(784,(0,3))"
   ]
  },
  {
   "cell_type": "markdown",
   "metadata": {},
   "source": [
    "## Fully connected model for Feature extraction\n"
   ]
  },
  {
   "cell_type": "code",
   "execution_count": 251,
   "metadata": {},
   "outputs": [],
   "source": [
    "class FeatureVectorModel(nn.Module):\n",
    "    def __init__(self, n_features):\n",
    "        super(FeatureVectorModel, self).__init__()\n",
    "        self.flatten = nn.Flatten()\n",
    "        self.linear_1 = nn.Linear(512*512*3, 256)\n",
    "        self.feature_linear = nn.Linear(256, n_features)\n",
    "        self.classification_linear = nn.Linear(n_features, 1)\n",
    "        # For saving model and loss values\n",
    "        self.name = \"FCNet\" \n",
    "        \n",
    "    def forward(self, x):\n",
    "        h = self.linear_1(self.flatten(x))\n",
    "        h = self.feature_linear(h)\n",
    "        h = self.classification_linear(h)\n",
    "        # We don't need Softmax when using BCEWithLogitsLoss\n",
    "        return h\n",
    "        "
   ]
  },
  {
   "cell_type": "markdown",
   "metadata": {},
   "source": [
    "## LSTM Model"
   ]
  },
  {
   "cell_type": "code",
   "execution_count": 252,
   "metadata": {},
   "outputs": [],
   "source": [
    "class LSTM(nn.Module):\n",
    "    def __init__(self, n_features, n_hidden, n_layers=1):\n",
    "        super(LSTM, self).__init__()\n",
    "        self.lstm = nn.LSTM(input_size=n_features, hidden_size=n_hidden, \n",
    "                            num_layers=n_layers, batch_first=True)\n",
    "        self.classification_linear = nn.Linear(n_hidden,1)\n",
    "        # For saving model and loss values\n",
    "        self.name = \"LSTMNet\" \n",
    "        \n",
    "    def forward(self, x):\n",
    "        lstm_output, (_, _) = self.lstm(x)\n",
    "        output = self.classification_linear(lstm_output[:,-1])\n",
    "        return output"
   ]
  },
  {
   "cell_type": "markdown",
   "metadata": {},
   "source": [
    "## Combined model"
   ]
  },
  {
   "cell_type": "code",
   "execution_count": 253,
   "metadata": {},
   "outputs": [],
   "source": [
    "class CombinedNet(nn.Module):\n",
    "    def __init__(self, fc_net, lstm_net, do_freeze_fc_net=False):\n",
    "        super(CombinedNet, self).__init__()\n",
    "        # Remove classification layer from FC network\n",
    "        self.fc_net = torch.nn.Sequential(*(list(fc_net.children())[:-1]))\n",
    "        self.lstm_net = lstm_net\n",
    "        # For saving model and loss values\n",
    "        self.name = \"CombinedNet\" \n",
    "    \n",
    "    def forward(self, x):\n",
    "        '''\n",
    "        THIS CODE WILL BE RELEVANT FOR WHEN WE HAVE MULTIPLE SLICES IN THE DATA\n",
    "\n",
    "        # Loop over all slices and compute feature vectors with FC net\n",
    "        feature_vectors = []\n",
    "        for slice_ in x:\n",
    "            feature_vector = self.fc_net(slice_)\n",
    "            feature_vectors.append(feature_vector)\n",
    "\n",
    "        # Convert to Tensor and compute predictions with LSTM net\n",
    "        feature_tensor = torch.Tensor(feature_vectors)\n",
    "        prediction = self.lstm_net(feature_tensor)\n",
    "        '''\n",
    "        feature_vector = self.fc_net(x)\n",
    "        feature_vector = torch.unsqueeze(feature_vector, 1)\n",
    "        prediction = self.lstm_net(feature_vector)\n",
    "        return prediction\n",
    "\n",
    "    def set_learning_fc_net(self, do_learning):\n",
    "        for param in self.fc_net.parameters():\n",
    "                param.requires_grad = do_learning"
   ]
  },
  {
   "cell_type": "markdown",
   "metadata": {},
   "source": [
    "# Initialize model\n",
    "Here we set the different training and model parameters. The model is initialized and a loss function and optimizer are choosen. Finally a training and validation iterator is created."
   ]
  },
  {
   "cell_type": "code",
   "execution_count": 281,
   "metadata": {},
   "outputs": [],
   "source": [
    "### Parameters ###\n",
    "device = 1\n",
    "epochs = 1\n",
    "batch_size = 5\n",
    "n_features=128\n",
    "\n",
    "model_dir = './models'\n",
    "if not os.path.exists(model_dir):\n",
    "    os.makedirs(model_dir)\n",
    "\n",
    "### Create model ###\n",
    "# model = Model(in_channels,outsize) #.cuda() # if device < 0 else Model(1,outsize).to_gpu(device)\n",
    "model = FeatureVectorModel(n_features=n_features)\n",
    "### Loss and optimizer ###\n",
    "criterion = nn.BCEWithLogitsLoss()#nn.BCELoss()\n",
    "optimizer = torch.optim.Adam(model.parameters(), lr=0.000001)\n",
    "\n",
    "### Create data generator ###\n",
    "\n",
    "training_iterator = data.DataLoader(training_set, batch_size=batch_size, shuffle = True)\n",
    "validation_iterator = data.DataLoader(validation_set, batch_size=batch_size, shuffle = False)"
   ]
  },
  {
   "cell_type": "markdown",
   "metadata": {},
   "source": [
    "# Training and validation\n",
    "In the next cell the model is trained and validated. The loss is printed and the model is saved after every epoch."
   ]
  },
  {
   "cell_type": "code",
   "execution_count": 282,
   "metadata": {
    "scrolled": true
   },
   "outputs": [],
   "source": [
    "def train(model, loss, optimizer, train_loader, val_loader, batch_size, n_epochs=1):\n",
    "    print(f'Running {model.name}')\n",
    "\n",
    "    ### Training and validation ###\n",
    "    loss_history = {'training': [], 'validation': []}\n",
    "    acc_history = {'training': [], 'validation': []}\n",
    "\n",
    "    for j in tqdm(range(n_epochs), desc=\"#epochs\"):\n",
    "        loss_history['training'].append(0)\n",
    "        acc_history['training'].append(0)\n",
    "\n",
    "        for i, (images, targets) in tqdm(enumerate(train_loader), total=len(training_set)//(batch_size+1), desc=\"#train_batches\", leave=False):\n",
    "\n",
    "            model.train()\n",
    "            optimizer.zero_grad()\n",
    "\n",
    "            predictions = model(images)\n",
    "            loss = criterion(predictions, targets)\n",
    "\n",
    "            loss.backward()\n",
    "\n",
    "            optimizer.step()\n",
    "            \n",
    "            #Accuracy\n",
    "            accuracy_predictions = (F.sigmoid(predictions)>0.5).float()\n",
    "\n",
    "            correct = (accuracy_predictions == targets).float().sum()/accuracy_predictions.shape[0]\n",
    "\n",
    "            loss_history['training'][-1] += float(loss.data)\n",
    "            acc_history['training'][-1] += float(correct)\n",
    "\n",
    "        loss_history['training'][-1] /= i + 1\n",
    "        acc_history['training'][-1] /= i + 1\n",
    "\n",
    "        loss_history['validation'].append(0)\n",
    "        acc_history['validation'].append(0)\n",
    "\n",
    "        for i, (images, targets) in tqdm(enumerate(val_loader), total=len(validation_set)//(batch_size+1), desc=\"#test_batches\", leave=False):\n",
    "\n",
    "            model.eval()\n",
    "\n",
    "            predictions = model(images)\n",
    "            loss = criterion(predictions, targets)\n",
    "            \n",
    "            #Accuracy\n",
    "            accuracy_predictions = (F.sigmoid(predictions)>0.5).float()\n",
    "            correct = (accuracy_predictions == targets).float().sum()/accuracy_predictions.shape[0]\n",
    "        \n",
    "            loss_history['validation'][-1] += float(loss.data)\n",
    "            acc_history['validation'][-1] += float(correct)\n",
    "\n",
    "        loss_history['validation'][-1] /= i + 1\n",
    "        acc_history['validation'][-1] /= i + 1\n",
    "\n",
    "        print('epoch: {:3d} / {:03d}, training loss: {:.4f}, validation loss: {:.4f}, training accuracy: {:.3f}, validation accuracy: {:.3f}.'.format(j + 1, epochs, loss_history['training'][-1], loss_history['validation'][-1], acc_history['training'][-1], acc_history['validation'][-1]))\n",
    "        np.savez('{:s}/{:s}_loss_history_{:03d}.npz'.format(model_dir, model.name, j), loss_history)\n",
    "        torch.save(model.state_dict(), '{:s}/{:s}_{:03d}.npz'.format(model_dir, model.name, j))"
   ]
  },
  {
   "cell_type": "markdown",
   "metadata": {},
   "source": [
    "## FC NET"
   ]
  },
  {
   "cell_type": "code",
   "execution_count": 283,
   "metadata": {},
   "outputs": [],
   "source": [
    "### Parameters ###\n",
    "epochs = 1\n",
    "batch_size = 32\n",
    "n_features = 128\n",
    "\n",
    "model_dir = './models'\n",
    "if not os.path.exists(model_dir):\n",
    "    os.makedirs(model_dir)\n",
    "\n",
    "### Create model ###\n",
    "fc_net = FeatureVectorModel(n_features=n_features)\n",
    "\n",
    "### Loss and optimizer ###\n",
    "criterion = nn.BCEWithLogitsLoss()\n",
    "optimizer = torch.optim.Adam(fc_net.parameters(), lr=0.0001)\n",
    "\n",
    "### Create data generator (redefine for each network) ###\n",
    "training_iterator = data.DataLoader(training_set, batch_size=batch_size, shuffle = True)\n",
    "validation_iterator = data.DataLoader(validation_set, batch_size=batch_size, shuffle = False)"
   ]
  },
  {
   "cell_type": "code",
   "execution_count": 284,
   "metadata": {},
   "outputs": [
    {
     "name": "stdout",
     "output_type": "stream",
     "text": [
      "Running FCNet\n"
     ]
    },
    {
     "data": {
      "application/vnd.jupyter.widget-view+json": {
       "model_id": "9665e40a5eca4f8893ebf8474cdc4f3f",
       "version_major": 2,
       "version_minor": 0
      },
      "text/plain": [
       "HBox(children=(FloatProgress(value=0.0, description='#epochs', max=1.0, style=ProgressStyle(description_width=…"
      ]
     },
     "metadata": {},
     "output_type": "display_data"
    },
    {
     "data": {
      "application/vnd.jupyter.widget-view+json": {
       "model_id": "",
       "version_major": 2,
       "version_minor": 0
      },
      "text/plain": [
       "HBox(children=(FloatProgress(value=0.0, description='#train_batches', max=1.0, style=ProgressStyle(description…"
      ]
     },
     "metadata": {},
     "output_type": "display_data"
    },
    {
     "data": {
      "application/vnd.jupyter.widget-view+json": {
       "model_id": "",
       "version_major": 2,
       "version_minor": 0
      },
      "text/plain": [
       "HBox(children=(FloatProgress(value=1.0, bar_style='info', description='#test_batches', max=1.0, style=Progress…"
      ]
     },
     "metadata": {},
     "output_type": "display_data"
    },
    {
     "name": "stdout",
     "output_type": "stream",
     "text": [
      "epoch:   1 / 001, training loss: 7427.3077, validation loss: 9528.2568, training accuracy: 0.413, validation accuracy: 0.500.\n",
      "\n"
     ]
    }
   ],
   "source": [
    "train(model=fc_net, loss=criterion, optimizer=optimizer, \n",
    "      train_loader=training_iterator, val_loader=validation_iterator, \n",
    "      batch_size=batch_size, n_epochs=epochs)"
   ]
  },
  {
   "cell_type": "markdown",
   "metadata": {},
   "source": [
    "## LSTM"
   ]
  },
  {
   "cell_type": "code",
   "execution_count": 285,
   "metadata": {},
   "outputs": [],
   "source": [
    "### Parameters ###\n",
    "epochs = 1\n",
    "batch_size = 32\n",
    "n_features = 128\n",
    "n_hidden = 64\n",
    "\n",
    "model_dir = './models'\n",
    "if not os.path.exists(model_dir):\n",
    "    os.makedirs(model_dir)\n",
    "\n",
    "### Create model ###\n",
    "lstm_net = LSTM(n_features=n_features, n_hidden=n_hidden, n_layers=1)\n",
    "combined_net = CombinedNet(fc_net=fc_net, lstm_net=lstm_net)\n",
    "# Turn off learning for FC_net\n",
    "combined_net.set_learning_fc_net(False)\n",
    "\n",
    "### Loss and optimizer ###\n",
    "criterion = nn.BCEWithLogitsLoss()\n",
    "optimizer = torch.optim.Adam(combined_net.parameters(), lr=0.0001)\n",
    "\n",
    "### Create data generator (redefine for each network) ###\n",
    "training_iterator = data.DataLoader(training_set, batch_size=batch_size, shuffle = True)\n",
    "validation_iterator = data.DataLoader(validation_set, batch_size=batch_size, shuffle = False)"
   ]
  },
  {
   "cell_type": "code",
   "execution_count": 286,
   "metadata": {},
   "outputs": [
    {
     "name": "stdout",
     "output_type": "stream",
     "text": [
      "Running CombinedNet\n"
     ]
    },
    {
     "data": {
      "application/vnd.jupyter.widget-view+json": {
       "model_id": "b4e66197b707487fab66570fd2d76fc5",
       "version_major": 2,
       "version_minor": 0
      },
      "text/plain": [
       "HBox(children=(FloatProgress(value=0.0, description='#epochs', max=1.0, style=ProgressStyle(description_width=…"
      ]
     },
     "metadata": {},
     "output_type": "display_data"
    },
    {
     "data": {
      "application/vnd.jupyter.widget-view+json": {
       "model_id": "",
       "version_major": 2,
       "version_minor": 0
      },
      "text/plain": [
       "HBox(children=(FloatProgress(value=0.0, description='#train_batches', max=1.0, style=ProgressStyle(description…"
      ]
     },
     "metadata": {},
     "output_type": "display_data"
    },
    {
     "data": {
      "application/vnd.jupyter.widget-view+json": {
       "model_id": "",
       "version_major": 2,
       "version_minor": 0
      },
      "text/plain": [
       "HBox(children=(FloatProgress(value=1.0, bar_style='info', description='#test_batches', max=1.0, style=Progress…"
      ]
     },
     "metadata": {},
     "output_type": "display_data"
    },
    {
     "name": "stdout",
     "output_type": "stream",
     "text": [
      "epoch:   1 / 001, training loss: 0.7013, validation loss: 0.7056, training accuracy: 0.512, validation accuracy: 0.500.\n",
      "\n"
     ]
    }
   ],
   "source": [
    "train(model=combined_net, loss=criterion, optimizer=optimizer, \n",
    "      train_loader=training_iterator, val_loader=validation_iterator, \n",
    "      batch_size=batch_size, n_epochs=epochs)"
   ]
  },
  {
   "cell_type": "markdown",
   "metadata": {},
   "source": [
    "## CombinedNet"
   ]
  },
  {
   "cell_type": "code",
   "execution_count": 287,
   "metadata": {},
   "outputs": [],
   "source": [
    "### Parameters ###\n",
    "epochs = 1\n",
    "batch_size = 32\n",
    "\n",
    "# Turn learning for fc_net back on\n",
    "combined_net.set_learning_fc_net(True)\n",
    "\n",
    "### Loss and optimizer ###\n",
    "criterion = nn.BCEWithLogitsLoss()\n",
    "optimizer = torch.optim.Adam(combined_net.parameters(), lr=0.000001)\n",
    "\n",
    "### Create data generator (redefine for each network) ###\n",
    "training_iterator = data.DataLoader(training_set, batch_size=batch_size, shuffle = True)\n",
    "validation_iterator = data.DataLoader(validation_set, batch_size=batch_size, shuffle = False)"
   ]
  },
  {
   "cell_type": "code",
   "execution_count": 288,
   "metadata": {},
   "outputs": [
    {
     "name": "stdout",
     "output_type": "stream",
     "text": [
      "Running CombinedNet\n"
     ]
    },
    {
     "data": {
      "application/vnd.jupyter.widget-view+json": {
       "model_id": "16b91320f9c643359d33b731fc78123a",
       "version_major": 2,
       "version_minor": 0
      },
      "text/plain": [
       "HBox(children=(FloatProgress(value=0.0, description='#epochs', max=1.0, style=ProgressStyle(description_width=…"
      ]
     },
     "metadata": {},
     "output_type": "display_data"
    },
    {
     "data": {
      "application/vnd.jupyter.widget-view+json": {
       "model_id": "",
       "version_major": 2,
       "version_minor": 0
      },
      "text/plain": [
       "HBox(children=(FloatProgress(value=0.0, description='#train_batches', max=1.0, style=ProgressStyle(description…"
      ]
     },
     "metadata": {},
     "output_type": "display_data"
    },
    {
     "data": {
      "application/vnd.jupyter.widget-view+json": {
       "model_id": "",
       "version_major": 2,
       "version_minor": 0
      },
      "text/plain": [
       "HBox(children=(FloatProgress(value=1.0, bar_style='info', description='#test_batches', max=1.0, style=Progress…"
      ]
     },
     "metadata": {},
     "output_type": "display_data"
    },
    {
     "name": "stdout",
     "output_type": "stream",
     "text": [
      "epoch:   1 / 001, training loss: 0.7179, validation loss: 0.7056, training accuracy: 0.464, validation accuracy: 0.500.\n",
      "\n"
     ]
    }
   ],
   "source": [
    "train(model=combined_net, loss=criterion, optimizer=optimizer, \n",
    "      train_loader=training_iterator, val_loader=validation_iterator, \n",
    "      batch_size=batch_size, n_epochs=epochs)"
   ]
  },
  {
   "cell_type": "markdown",
   "metadata": {},
   "source": [
    "# Testing\n",
    "Here we show some example code that you can use to run your model on the test data set once this is provided and create a .csv submission file that you can upload to grand challenge."
   ]
  },
  {
   "cell_type": "markdown",
   "metadata": {},
   "source": [
    "# Select slices for test set\n",
    "Here we do the same as above to select slices from the test set."
   ]
  },
  {
   "cell_type": "code",
   "execution_count": null,
   "metadata": {},
   "outputs": [],
   "source": [
    "in_dir = 'path/to/test_in_dir'\n",
    "out_dir = 'path/to/test_out_dir'\n",
    "\n",
    "\n",
    "if not os.path.exists(out_dir):\n",
    "    os.makedirs(out_dir)\n",
    "            \n",
    "for klass in os.listdir(in_dir):\n",
    "\n",
    "    for patient in os.listdir(os.path.join(in_dir, klass)):\n",
    "\n",
    "        ## Check if patient has not been processed yet\n",
    "        out_path = os.path.join(out_dir, patient+'.pt')\n",
    "        if not os.path.exists(out_path):\n",
    "\n",
    "            ## Paths to the image files\n",
    "            t1_path = os.path.join(in_dir,klass,patient,'T1.mha')\n",
    "            t2_path = os.path.join(in_dir,klass,patient,'T2.mha')\n",
    "            t2_flair_path = os.path.join(in_dir,klass,patient,'T2-FLAIR.mha')\n",
    "\n",
    "            ## Load all images\n",
    "            t1_image = sitk.ReadImage(t1_path)\n",
    "            t2_image = sitk.ReadImage(t2_path)\n",
    "            t2_flair_image = sitk.ReadImage(t2_flair_path)\n",
    "\n",
    "            ## Check if the number of slices is equal in all series\n",
    "            if t1_image.GetSize()[-1] == t2_image.GetSize()[-1] == t2_flair_image.GetSize()[-1]:\n",
    "                \n",
    "                with open(out_dir+'/labels_slices_z_test.csv', 'a') as csvfile:\n",
    "                    w = csv.writer(csvfile, delimiter=',')\n",
    "\n",
    "                    if klass == 'normal':\n",
    "                        w.writerow([patient, 0])\n",
    "                    elif klass == 'abnormal':\n",
    "                        w.writerow([patient, 1])\n",
    "                \n",
    "                ## Determine center slice of images\n",
    "                z = int(t1_image.GetSize()[-1]/2)\n",
    "\n",
    "                ## Convert the images to numpy arrays\n",
    "                t1_array = sitk.GetArrayFromImage(t1_image)\n",
    "                t2_array = sitk.GetArrayFromImage(t2_image)\n",
    "                t2_flair_array = sitk.GetArrayFromImage(t2_flair_image)\n",
    "\n",
    "                ## Extract the center slices from the images\n",
    "                t1_slice = t1_array[z,:,:]\n",
    "                t2_slice = t2_array[z,:,:]\n",
    "                t2_flair_slice = t2_flair_array[z,:,:]\n",
    "\n",
    "                ## Create one data array\n",
    "                comb_data = np.zeros((3,512,512))\n",
    "                comb_data[0,:,:] = t1_slice\n",
    "                comb_data[1,:,:] = t2_slice\n",
    "                comb_data[2,:,:] = t2_flair_slice\n",
    "                \n",
    "                ## Save as torch tensor for quick loading during training\n",
    "                torch.save(torch.from_numpy(comb_data.astype('float32')),out_dir+'/'+patient+'.pt')\n",
    "\n",
    "                \n",
    "                print(\"Slices saved for:\", patient)\n",
    "\n",
    "                del t1_array, t2_array, t2_flair_array\n",
    "\n",
    "            else:\n",
    "                print(\"Number of slices not equal for:\", patient)\n",
    "                del t1_image, t2_image, t2_flair_image\n",
    "        else:\n",
    "            continue"
   ]
  },
  {
   "cell_type": "markdown",
   "metadata": {},
   "source": [
    "We create a test dataset from these slices."
   ]
  },
  {
   "cell_type": "code",
   "execution_count": 5,
   "metadata": {},
   "outputs": [],
   "source": [
    "### Specify test data directory ###    \n",
    "test_dir = '/path/to/test_out_dir'\n",
    "\n",
    "### Load labels and convert to dict ###\n",
    "labels_test = {}\n",
    "\n",
    "with open(test_dir+'/labels_slices_z_test.csv', 'r') as csvfile:\n",
    "    reader = csv.reader(csvfile)\n",
    "    for rows in reader:\n",
    "        labels_test[rows[0]] = float(rows[1])\n",
    "           \n",
    "data_sets['test'] = np.asarray(list(labels_test.keys()))\n",
    "\n",
    "test_set = Dataset(data_sets['test'], labels_test, test_dir)\n"
   ]
  },
  {
   "cell_type": "markdown",
   "metadata": {},
   "source": [
    "# Run trained model on the test set.\n",
    "Run the model with the best validation loss on the test set to obtain a 'submission' csv file. You can upload this file to grand challenge to see how well you perform and add your score to the leaderboard."
   ]
  },
  {
   "cell_type": "code",
   "execution_count": 11,
   "metadata": {},
   "outputs": [],
   "source": [
    "test_iterator = data.DataLoader(test_set, batch_size=1, shuffle = False)\n",
    "\n",
    "j = 4\n",
    "model = Model(in_channels,outsize).cuda() # if device < 0 else Model(1,outsize).to_gpu(device)\n",
    "checkpoint = torch.load('{:s}/model_{:03d}.npz'.format(model_dir, j))\n",
    "\n",
    "model.load_state_dict(checkpoint)\n",
    "model.eval()\n",
    "m =nn.Sigmoid()\n",
    "\n",
    "with open(test_dir+'/submission.csv', 'a') as csvfile:\n",
    "    w = csv.writer(csvfile, delimiter=',')\n",
    "    w.writerow(['case','probability','class'])\n",
    "    for i, batch in enumerate(test_iterator):\n",
    "        images, targets = batch[0].cuda() , batch[1].cuda()\n",
    "        y = model(images)\n",
    "        prob = m(y)\n",
    "        output = prob>0.5\n",
    "        patient = data_sets['test'][i]\n",
    "        w.writerow([patient, float(prob), int(output)])"
   ]
  }
 ],
 "metadata": {
  "kernelspec": {
   "display_name": "Python 3",
   "language": "python",
   "name": "python3"
  },
  "language_info": {
   "codemirror_mode": {
    "name": "ipython",
    "version": 3
   },
   "file_extension": ".py",
   "mimetype": "text/x-python",
   "name": "python",
   "nbconvert_exporter": "python",
   "pygments_lexer": "ipython3",
   "version": "3.7.6"
  }
 },
 "nbformat": 4,
 "nbformat_minor": 2
}
