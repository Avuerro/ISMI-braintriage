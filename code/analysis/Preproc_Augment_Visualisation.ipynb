{
 "cells": [
  {
   "cell_type": "markdown",
   "metadata": {},
   "source": [
    "# Preprocessing & Augmentation Visualization"
   ]
  },
  {
   "cell_type": "markdown",
   "metadata": {},
   "source": [
    "This notebook contains an example of how we preprocessed and augmented slices during training. While training, each slice was preprocessed, and there was a 50% chance that an image would be flipped horizontally (i.e. left to right) and a 50% chance that the image would be slightly randomly rotated (between -10 and 10 degrees)."
   ]
  },
  {
   "cell_type": "markdown",
   "metadata": {},
   "source": [
    "##### Imports"
   ]
  },
  {
   "cell_type": "code",
   "execution_count": 1,
   "metadata": {},
   "outputs": [],
   "source": [
    "# Packages\n",
    "import pandas as pd\n",
    "import os\n",
    "import sys\n",
    "import torch\n",
    "import matplotlib.pyplot as plt"
   ]
  },
  {
   "cell_type": "code",
   "execution_count": 2,
   "metadata": {},
   "outputs": [],
   "source": [
    "# Local imports\n",
    "sys.path.append(\".\")\n",
    "sys.path.append(\"..\")\n",
    "from visualisation.slice_plotter import plot_slice_by_acquisition"
   ]
  },
  {
   "cell_type": "markdown",
   "metadata": {},
   "source": [
    "##### Loading Data"
   ]
  },
  {
   "cell_type": "code",
   "execution_count": 8,
   "metadata": {},
   "outputs": [],
   "source": [
    "DATA_DIR = \"../../../data/sliced-data/train\""
   ]
  },
  {
   "cell_type": "code",
   "execution_count": 9,
   "metadata": {},
   "outputs": [
    {
     "data": {
      "text/html": [
       "<div>\n",
       "<style scoped>\n",
       "    .dataframe tbody tr th:only-of-type {\n",
       "        vertical-align: middle;\n",
       "    }\n",
       "\n",
       "    .dataframe tbody tr th {\n",
       "        vertical-align: top;\n",
       "    }\n",
       "\n",
       "    .dataframe thead th {\n",
       "        text-align: right;\n",
       "    }\n",
       "</style>\n",
       "<table border=\"1\" class=\"dataframe\">\n",
       "  <thead>\n",
       "    <tr style=\"text-align: right;\">\n",
       "      <th></th>\n",
       "      <th>patient_nr</th>\n",
       "      <th>slice_nr</th>\n",
       "      <th>class</th>\n",
       "    </tr>\n",
       "  </thead>\n",
       "  <tbody>\n",
       "    <tr>\n",
       "      <th>0</th>\n",
       "      <td>797</td>\n",
       "      <td>0</td>\n",
       "      <td>True</td>\n",
       "    </tr>\n",
       "    <tr>\n",
       "      <th>1</th>\n",
       "      <td>797</td>\n",
       "      <td>1</td>\n",
       "      <td>True</td>\n",
       "    </tr>\n",
       "    <tr>\n",
       "      <th>2</th>\n",
       "      <td>797</td>\n",
       "      <td>2</td>\n",
       "      <td>True</td>\n",
       "    </tr>\n",
       "    <tr>\n",
       "      <th>3</th>\n",
       "      <td>797</td>\n",
       "      <td>3</td>\n",
       "      <td>True</td>\n",
       "    </tr>\n",
       "    <tr>\n",
       "      <th>4</th>\n",
       "      <td>797</td>\n",
       "      <td>4</td>\n",
       "      <td>True</td>\n",
       "    </tr>\n",
       "  </tbody>\n",
       "</table>\n",
       "</div>"
      ],
      "text/plain": [
       "   patient_nr  slice_nr  class\n",
       "0         797         0   True\n",
       "1         797         1   True\n",
       "2         797         2   True\n",
       "3         797         3   True\n",
       "4         797         4   True"
      ]
     },
     "execution_count": 9,
     "metadata": {},
     "output_type": "execute_result"
    }
   ],
   "source": [
    "label_df = pd.read_csv(os.path.join(DATA_DIR, \"labels_slices.csv\"), names=[\"patient_nr\", \"slice_nr\", \"class\"])\n",
    "label_df.head()"
   ]
  },
  {
   "cell_type": "markdown",
   "metadata": {},
   "source": [
    "### Plotting Original, Preprocessed and Augmented Images"
   ]
  },
  {
   "cell_type": "code",
   "execution_count": 16,
   "metadata": {},
   "outputs": [
    {
     "ename": "SyntaxError",
     "evalue": "f-string expression part cannot include a backslash (<ipython-input-16-fb17d440a487>, line 6)",
     "output_type": "error",
     "traceback": [
      "\u001b[0;36m  File \u001b[0;32m\"<ipython-input-16-fb17d440a487>\"\u001b[0;36m, line \u001b[0;32m6\u001b[0m\n\u001b[0;31m    print(f\"Patient {PATIENT_NR} ({\\'Abnormal\\' if row['class']} else \\'Normal\\')\")\u001b[0m\n\u001b[0m         ^\u001b[0m\n\u001b[0;31mSyntaxError\u001b[0m\u001b[0;31m:\u001b[0m f-string expression part cannot include a backslash\n"
     ]
    }
   ],
   "source": [
    "EXAMPLE_INDEX = 5456\n",
    "\n",
    "row = label_df.loc[EXAMPLE_INDEX]\n",
    "slice_nr = row['slice_nr']\n",
    "patient_nr = row['patient_nr']\n",
    "c = \"Ab\"\n",
    "print(f\"Patient {patient_nr} ()\")\n",
    "X = torch.load(f\"{DATA_DIR}/{patient_nr}_{slice_nr}.pt\")\n",
    "\n",
    "print(X.shape)\n",
    "\n",
    "from dataset.preprocessing import preprocess, augment\n",
    "\n",
    "X_preproc = preprocess(X)\n",
    "X_flip = augment(X_preproc, 1, 0)\n",
    "X_rotate = augment(X_preproc, 0, 1)\n",
    "X_flip_rotate = augment(X_flip, 0, 1)\n",
    "\n",
    "plot_slice_by_acquisition(X, f\"{SLICE_NR}\\noriginal\")\n",
    "plot_slice_by_acquisition(X_preproc, f\"{SLICE_NR}\\npreprocessed\")\n",
    "plot_slice_by_acquisition(X_flip, f\"{SLICE_NR}\\nflipped\")\n",
    "plot_slice_by_acquisition(X_rotate, f\"{SLICE_NR}\\nrotated\")\n",
    "plot_slice_by_acquisition(X_flip_rotate, f\"{SLICE_NR}\\nflipped and\\nrotated\")           "
   ]
  },
  {
   "cell_type": "code",
   "execution_count": null,
   "metadata": {},
   "outputs": [],
   "source": []
  }
 ],
 "metadata": {
  "kernelspec": {
   "display_name": "Python 3",
   "language": "python",
   "name": "python3"
  },
  "language_info": {
   "codemirror_mode": {
    "name": "ipython",
    "version": 3
   },
   "file_extension": ".py",
   "mimetype": "text/x-python",
   "name": "python",
   "nbconvert_exporter": "python",
   "pygments_lexer": "ipython3",
   "version": "3.7.6"
  }
 },
 "nbformat": 4,
 "nbformat_minor": 2
}
