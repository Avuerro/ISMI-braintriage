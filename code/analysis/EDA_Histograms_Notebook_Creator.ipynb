{
 "cells": [
  {
   "cell_type": "markdown",
   "metadata": {},
   "source": [
    "# EDA Intensity Histograms\n",
    "\n",
    "\n",
    "## Instructions\n",
    "Since there is quite some information to consider, I thought it would be best to make sure everyone can plot whatever histogram they are interested in. This notebook will show you how you can specifiy slices and it will create a two notebooks with all the information you requested. One notebook with all the normal data and one notebook with the abnormal data. "
   ]
  },
  {
   "cell_type": "code",
   "execution_count": 1,
   "metadata": {},
   "outputs": [],
   "source": [
    "import torch\n",
    "import torch.nn as nn\n",
    "import torch.nn.functional as F\n",
    "from torch.utils import data\n",
    "import os\n",
    "import SimpleITK as sitk\n",
    "import matplotlib\n",
    "import matplotlib.pyplot as plt\n",
    "import numpy as np\n",
    "import math as math\n",
    "import csv\n",
    "import pandas as pd\n",
    "from tqdm.notebook import tqdm\n",
    "import pdb\n",
    "from torchvision import models\n",
    "from  scipy import ndimage,signal\n",
    "\n",
    "import nbformat as nbf\n",
    "import sys\n",
    "## reload scripts before executing them\n",
    "%load_ext autoreload\n",
    "%autoreload 2\n",
    "sys.path.append(\".\")\n",
    "sys.path.append(\"..\")\n",
    "from visualisation.slice_plotter import plot_slices\n",
    "from visualisation.slice_plotter import plot_slices_by_acquisition\n",
    "\n",
    "from visualisation.intensity_histogram import get_acquisition_histogram\n"
   ]
  },
  {
   "cell_type": "code",
   "execution_count": 2,
   "metadata": {},
   "outputs": [],
   "source": [
    "in_dir = '../../../data/full'\n"
   ]
  },
  {
   "cell_type": "markdown",
   "metadata": {},
   "source": [
    "## Interesting \n",
    "\n",
    "Things to consider.\n",
    "TE = echo time\n",
    "TR = repetition time\n",
    "\n",
    "\n",
    "\n",
    "![image](../images/differences.png)\n",
    "\n",
    "\n",
    "T1, T2, and T2-Flair show  some characterics in an opposing way. White matter is light in T1 and dark gray in T2 and T2 Flair\n",
    "\n",
    "\n",
    "This means that we can differentiate between CSF, WhiteMatter, Gray Matter Fat and Inflammations. \n",
    "I think it will be interesting to look at visualizations of slices of a patient with vs without abnormalities."
   ]
  },
  {
   "cell_type": "code",
   "execution_count": 129,
   "metadata": {},
   "outputs": [],
   "source": [
    "## settings\n",
    "total_nr_of_slices = np.arange(0,32)\n",
    "\n",
    "## I want to plot intensities in groups of 4 slices therefore I need 32/4 = 8 groups..\n",
    "## if you only want intensities for all slices set groups to 0\n",
    "groups = 8\n",
    "splits = np.array_split(total_nr_of_slices,groups)\n",
    "\n",
    "## I would also like to print the histograms over all slices\n",
    "histograms_of_all_slices = True\n",
    "\n",
    "\n",
    "## Where is your data located, \n",
    "## keep in mind we use the 'original' data not the data created with our slice functions\n",
    "\n",
    "in_dir = '../../data/full'\n"
   ]
  },
  {
   "cell_type": "markdown",
   "metadata": {},
   "source": [
    "## Create the notebook and specify filename"
   ]
  },
  {
   "cell_type": "code",
   "execution_count": 119,
   "metadata": {},
   "outputs": [],
   "source": [
    "## create a new notebook\n",
    "nb = nbf.v4.new_notebook()\n",
    "cells = []\n",
    "filename = \"example_histograms_normal_and_abnormal_patients\"\n",
    "## specify the klass, normal , abnormal or  ['abnormal','normal'] (both)\n",
    "klass = None"
   ]
  },
  {
   "cell_type": "code",
   "execution_count": 120,
   "metadata": {},
   "outputs": [],
   "source": [
    "intro_text = \"\"\"\\\n",
    "# EDA Histogram intensities\n",
    "This notebook contains histograms of slices divided in groups as well as all slices\n",
    "\"\"\"\n",
    "\n",
    "cells.append(nbf.v4.new_markdown_cell(intro_text))"
   ]
  },
  {
   "cell_type": "code",
   "execution_count": 153,
   "metadata": {},
   "outputs": [],
   "source": [
    "\n",
    "## create a new notebook\n",
    "nb = nbf.v4.new_notebook()\n",
    "cells = []\n",
    "\n",
    "import_code = \"## reload scripts before executing them \\n\\\n",
    "from visualisation.slice_plotter import plot_slices \\n\\\n",
    "from visualisation.slice_plotter import plot_slices_by_acquisition \\n\\\n",
    "from visualisation.intensity_histogram import get_acquisition_histogram \\n\"\n",
    "\n",
    "cells.append(nbf.v4.new_code_cell(import_code))\n",
    "\n",
    "intro_text = \"# EDA Histogram intensities of normal and/or abnormal patients \\n \\\n",
    "This notebook contains histograms of slices divided in groups as well as all slices \\n \\\n",
    "\"\n",
    "\n",
    "cells.append(nbf.v4.new_markdown_cell(intro_text))\n",
    "\n",
    "if groups > 0:\n",
    "    for split in splits:\n",
    "        list_split = split.tolist()\n",
    "        text = \"Intensity histograms for slices {}\".format(list_split)\n",
    "        code = \"get_acquisition_histogram(\\\"{}\\\",\\\"{}\\\",{})\".format(in_dir,list_split,klass)\n",
    "        cells.append(nbf.v4.new_markdown_cell(text))    \n",
    "        cells.append(nbf.v4.new_code_cell(code))\n",
    "\n",
    "## generate code cells for histograms for all slices\n",
    "\n",
    "text = \"\"\"\\\n",
    "# Intensities for all patients for all slices\n",
    "\"\"\"\n",
    "code = \"get_acquisition_histogram(\\\"{}\\\",\\\"{}\\\",{})\".format(in_dir,total_nr_of_slices.tolist(),klass)\n",
    "cells.append(nbf.v4.new_markdown_cell(text))\n",
    "cells.append(nbf.v4.new_code_cell(code))\n",
    "\n",
    "nb['cells'] =cells\n",
    "nbf.write(nb, '{}.ipynb'.format(filename))"
   ]
  },
  {
   "cell_type": "code",
   "execution_count": null,
   "metadata": {
    "scrolled": false
   },
   "outputs": [],
   "source": []
  },
  {
   "cell_type": "code",
   "execution_count": 123,
   "metadata": {},
   "outputs": [],
   "source": []
  }
 ],
 "metadata": {
  "kernelspec": {
   "display_name": "Python 3",
   "language": "python",
   "name": "python3"
  },
  "language_info": {
   "codemirror_mode": {
    "name": "ipython",
    "version": 3
   },
   "file_extension": ".py",
   "mimetype": "text/x-python",
   "name": "python",
   "nbconvert_exporter": "python",
   "pygments_lexer": "ipython3",
   "version": "3.7.6"
  }
 },
 "nbformat": 4,
 "nbformat_minor": 4
}
