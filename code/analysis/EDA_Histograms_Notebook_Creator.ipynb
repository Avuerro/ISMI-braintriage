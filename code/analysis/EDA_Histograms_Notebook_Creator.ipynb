{
 "cells": [
  {
   "cell_type": "markdown",
   "metadata": {},
   "source": [
    "# EDA Intensity Histograms\n",
    "\n",
    "\n",
    "## Instructions\n",
    "Since there is quite some information to consider, I thought it would be best to make sure everyone can plot whatever histogram they are interested in. This notebook will show you how you can specifiy slices and it will create two notebooks with all the information you requested. One notebook with all the normal data and one notebook with the abnormal data. \n",
    "It is also possible to create overlapping histograms, if you would like to do so please specify the ```klass``` parameter as a list with normal and abnormal as its elements, \n",
    "\n",
    "e.g. [\"normal\", \"abnormal\"]."
   ]
  },
  {
   "cell_type": "code",
   "execution_count": 3,
   "metadata": {},
   "outputs": [],
   "source": [
    "import torch\n",
    "import torch.nn as nn\n",
    "import torch.nn.functional as F\n",
    "from torch.utils import data\n",
    "import os\n",
    "import SimpleITK as sitk\n",
    "import matplotlib\n",
    "import matplotlib.pyplot as plt\n",
    "import numpy as np\n",
    "import math as math\n",
    "import csv\n",
    "import pandas as pd\n",
    "from tqdm.notebook import tqdm\n",
    "import pdb\n",
    "from torchvision import models\n",
    "from  scipy import ndimage,signal\n",
    "import numpy as np\n",
    "import nbformat as nbf\n",
    "import sys\n",
    "## reload scripts before executing them\n",
    "%load_ext autoreload\n",
    "%autoreload 2\n",
    "sys.path.append(\".\")\n",
    "sys.path.append(\"..\")\n",
    "from visualisation.slice_plotter import plot_slices\n",
    "from visualisation.slice_plotter import plot_slices_by_acquisition\n",
    "\n",
    "from visualisation.intensity_histogram import get_acquisition_histogram\n"
   ]
  },
  {
   "cell_type": "code",
   "execution_count": 25,
   "metadata": {},
   "outputs": [],
   "source": [
    "## settings\n",
    "total_nr_of_slices = np.arange(0,32)\n",
    "\n",
    "## I want to plot intensities in groups of 4 slices therefore I need 32/4 = 8 groups..\n",
    "## if you only want intensities for all slices set groups to 1\n",
    "groups = 8\n",
    "splits = np.array_split(total_nr_of_slices,groups)\n",
    "\n",
    "## Where is your data located, \n",
    "## keep in mind we use the 'original' data not the data created with our slice functions\n",
    "in_dir = '../../../data/full'\n"
   ]
  },
  {
   "cell_type": "markdown",
   "metadata": {},
   "source": [
    "## Create the notebook and specify filename"
   ]
  },
  {
   "cell_type": "code",
   "execution_count": 26,
   "metadata": {},
   "outputs": [],
   "source": [
    "## create a new notebook\n",
    "nb = nbf.v4.new_notebook()\n",
    "cells = []\n",
    "filename = \"example_histograms_normal_and_abnormal_patients\"\n",
    "## specify the klass, normal , abnormal or  ['abnormal','normal'] (both)\n",
    "klass = None"
   ]
  },
  {
   "cell_type": "code",
   "execution_count": 27,
   "metadata": {},
   "outputs": [],
   "source": [
    "intro_text = \"\"\"\\\n",
    "# EDA Histogram intensities\n",
    "This notebook contains histograms of slices divided in groups as well as all slices\n",
    "\"\"\"\n",
    "\n",
    "cells.append(nbf.v4.new_markdown_cell(intro_text))"
   ]
  },
  {
   "cell_type": "code",
   "execution_count": 29,
   "metadata": {},
   "outputs": [],
   "source": [
    "\n",
    "## create a new notebook\n",
    "nb = nbf.v4.new_notebook()\n",
    "cells = []\n",
    "\n",
    "import_code = \"## imports \\n\\\n",
    "import sys \\n\\\n",
    "sys.path.append(\\\".\\\") \\n\\\n",
    "sys.path.append(\\\"..\\\") \\n\\\n",
    "from visualisation.slice_plotter import plot_slices \\n\\\n",
    "from visualisation.slice_plotter import plot_slices_by_acquisition \\n\\\n",
    "from visualisation.intensity_histogram import get_acquisition_histogram \\n\"\n",
    "\n",
    "cells.append(nbf.v4.new_code_cell(import_code))\n",
    "\n",
    "intro_text = \"# EDA Histogram intensities of normal and/or abnormal patients \\n \\\n",
    "This notebook contains histograms of slices divided in groups as well as all slices \\n \\\n",
    "\"\n",
    "\n",
    "cells.append(nbf.v4.new_markdown_cell(intro_text))\n",
    "\n",
    "if groups > 1:\n",
    "    for split in splits:\n",
    "        list_split = split.tolist()\n",
    "        text = \"Intensity histograms for slices {}\".format(list_split)\n",
    "        code = \"get_acquisition_histogram(\\\"{}\\\",{},{})\".format(in_dir,list_split,klass)\n",
    "        cells.append(nbf.v4.new_markdown_cell(text))    \n",
    "        cells.append(nbf.v4.new_code_cell(code))\n",
    "\n",
    "## generate code cells for histograms for all slices\n",
    "\n",
    "text = \"\"\"\\\n",
    "# Intensities for all patients for all slices\n",
    "\"\"\"\n",
    "code = \"get_acquisition_histogram(\\\"{}\\\",{},{})\".format(in_dir,total_nr_of_slices.tolist(),klass)\n",
    "cells.append(nbf.v4.new_markdown_cell(text))\n",
    "cells.append(nbf.v4.new_code_cell(code))\n",
    "\n",
    "nb['cells'] =cells\n",
    "nbf.write(nb, '{}.ipynb'.format(filename))"
   ]
  },
  {
   "cell_type": "code",
   "execution_count": null,
   "metadata": {
    "scrolled": false
   },
   "outputs": [],
   "source": []
  }
 ],
 "metadata": {
  "kernelspec": {
   "display_name": "Python 3",
   "language": "python",
   "name": "python3"
  },
  "language_info": {
   "codemirror_mode": {
    "name": "ipython",
    "version": 3
   },
   "file_extension": ".py",
   "mimetype": "text/x-python",
   "name": "python",
   "nbconvert_exporter": "python",
   "pygments_lexer": "ipython3",
   "version": "3.7.6"
  }
 },
 "nbformat": 4,
 "nbformat_minor": 4
}
