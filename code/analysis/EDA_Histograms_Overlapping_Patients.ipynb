{
 "cells": [
  {
   "cell_type": "code",
   "execution_count": 2,
   "metadata": {},
   "outputs": [],
   "source": [
    "import sys\n",
    "sys.path.append(\".\")\n",
    "sys.path.append(\"..\")\n",
    "## reload scripts before executing them \n",
    "from visualisation.slice_plotter import plot_slices \n",
    "from visualisation.slice_plotter import plot_slices_by_acquisition \n",
    "from visualisation.intensity_histogram import get_acquisition_histogram \n"
   ]
  },
  {
   "cell_type": "markdown",
   "metadata": {},
   "source": [
    "# EDA Histogram intensities of normal vs abnormal patients \n",
    "This notebook contains histograms of slices divided in groups as well as all slices. We have create overlapping histograms to inspect whether there intensities are higher / lower on average in the normal compared to abnormal patients  \n",
    "\n",
    "All images are Z-score normalised. The average pixel intensity was calculated by summing the intensities of each pixels in each slice and then dividing by the total number of slices.\n",
    "\n",
    "\n",
    "\n",
    "## Outputs\n",
    "This notebook does not contain any output because after running all cells the size of the notebook is too large for git. The runned notebook can be found on the following link, [click here](https://drive.google.com/file/d/10UyNwmgQhVxGH32XTkSwecQtpEVgitZ9/view?usp=sharing)."
   ]
  },
  {
   "cell_type": "markdown",
   "metadata": {},
   "source": [
    "Intensity histograms for slices [0, 1, 2, 3].\n",
    "In the plots below we would expect that the intensity on average is higher in T2 FLAIR and T2. However, when inspecting these plots we do not necessarily see an indication of higher intensity averages. We do see that some intensities occur more in the abnormal brains. For example 0.3 - 0.5 in the T2 FLAIR histogram."
   ]
  },
  {
   "cell_type": "code",
   "execution_count": null,
   "metadata": {},
   "outputs": [],
   "source": [
    "DATA_DIR = \"../../../data/full\""
   ]
  },
  {
   "cell_type": "code",
   "execution_count": null,
   "metadata": {},
   "outputs": [],
   "source": [
    "get_acquisition_histogram(DATA_DIR,[0, 1, 2, 3])"
   ]
  },
  {
   "cell_type": "markdown",
   "metadata": {},
   "source": [
    "Intensity histograms for slices [4, 5, 6, 7]. In the T1 histogram we observe that the pixels with intensity 1.0 occur less frequently in normal brains. Inflammation are darker in normal brain and T1 weighting. Also, in the T2 histogram we see a higher peak at intensity +- 1.3. However, in T2-FLAIR the peak at 2.0 is higher for normal brains. This contradicts our expectations."
   ]
  },
  {
   "cell_type": "code",
   "execution_count": null,
   "metadata": {},
   "outputs": [],
   "source": [
    "get_acquisition_histogram(DATA_DIR,[4, 5, 6, 7])"
   ]
  },
  {
   "cell_type": "markdown",
   "metadata": {},
   "source": [
    "Intensity histograms for slices [8, 9, 10, 11] \n",
    "\n",
    "The most interesting observation is again the higher intensity averages in normal patients in the T2 FLAIR acquisition."
   ]
  },
  {
   "cell_type": "code",
   "execution_count": null,
   "metadata": {},
   "outputs": [],
   "source": [
    "get_acquisition_histogram(DATA_DIR,[8, 9, 10, 11])"
   ]
  },
  {
   "cell_type": "markdown",
   "metadata": {},
   "source": [
    "Intensity histograms for slices [12, 13, 14, 15]\n",
    "\n",
    "The most interesting observation is again the higher intensity averages in normal patients in the T2 FLAIR acquisition."
   ]
  },
  {
   "cell_type": "code",
   "execution_count": null,
   "metadata": {},
   "outputs": [],
   "source": [
    "get_acquisition_histogram(DATA_DIR,[12, 13, 14, 15])"
   ]
  },
  {
   "cell_type": "markdown",
   "metadata": {},
   "source": [
    "Intensity histograms for slices [16, 17, 18, 19]\n",
    "\n",
    "The most interesting observation is again the higher intensity averages in normal patients in the T2 FLAIR acquisition. However, the abnormal brains have more pixels with intensity of 0.5 in T2 FLAIR"
   ]
  },
  {
   "cell_type": "code",
   "execution_count": null,
   "metadata": {},
   "outputs": [],
   "source": [
    "get_acquisition_histogram(DATA_DIR,[16, 17, 18, 19])"
   ]
  },
  {
   "cell_type": "markdown",
   "metadata": {},
   "source": [
    "Intensity histograms for slices [20, 21, 22, 23]"
   ]
  },
  {
   "cell_type": "code",
   "execution_count": null,
   "metadata": {},
   "outputs": [],
   "source": [
    "get_acquisition_histogram(DATA_DIR,[20, 21, 22, 23])"
   ]
  },
  {
   "cell_type": "markdown",
   "metadata": {},
   "source": [
    "Intensity histograms for slices [24, 25, 26, 27]"
   ]
  },
  {
   "cell_type": "code",
   "execution_count": null,
   "metadata": {},
   "outputs": [],
   "source": [
    "get_acquisition_histogram(DATA_DIR,[24, 25, 26, 27])"
   ]
  },
  {
   "cell_type": "markdown",
   "metadata": {},
   "source": [
    "Intensity histograms for slices [28, 29, 30, 31]"
   ]
  },
  {
   "cell_type": "code",
   "execution_count": null,
   "metadata": {},
   "outputs": [],
   "source": [
    "get_acquisition_histogram(DATA_DIR,[28, 29, 30, 31])"
   ]
  },
  {
   "cell_type": "markdown",
   "metadata": {},
   "source": [
    "# Intensities for all patients for all slices\n",
    "    \n",
    "The expectation that on average pixel intensity would be higher in T2 and T2 FLAIR does not seem to be correct based on the plot below and plots above. This can be explained by the fact that inflammations is just one type of abnormality. There are many things that could explain why a brain is abnormal, for example the ratio between white/gray matter or the amount of fat. However, we think that due to the variability in abnormality types a general pattern is hard to find without explicit knowledge of these abnormalities. We have therefore decided to only use center cropping and normalization for our data preprocessing. And flipping for our data augmentation we randomly flip on the x axis or rotating the brain with small angles \n",
    "    "
   ]
  },
  {
   "cell_type": "code",
   "execution_count": null,
   "metadata": {},
   "outputs": [],
   "source": [
    "get_acquisition_histogram(DATA_DIR,(0,32))"
   ]
  },
  {
   "cell_type": "code",
   "execution_count": null,
   "metadata": {},
   "outputs": [],
   "source": []
  }
 ],
 "metadata": {
  "kernelspec": {
   "display_name": "Python 3",
   "language": "python",
   "name": "python3"
  },
  "language_info": {
   "codemirror_mode": {
    "name": "ipython",
    "version": 3
   },
   "file_extension": ".py",
   "mimetype": "text/x-python",
   "name": "python",
   "nbconvert_exporter": "python",
   "pygments_lexer": "ipython3",
   "version": "3.7.6"
  }
 },
 "nbformat": 4,
 "nbformat_minor": 4
}
