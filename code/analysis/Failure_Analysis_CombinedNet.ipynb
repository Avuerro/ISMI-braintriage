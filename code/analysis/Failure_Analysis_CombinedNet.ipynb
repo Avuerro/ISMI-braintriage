{
 "cells": [
  {
   "cell_type": "markdown",
   "metadata": {},
   "source": [
    "# Failure Analysis CombinedNet"
   ]
  },
  {
   "cell_type": "markdown",
   "metadata": {},
   "source": [
    "## Imports"
   ]
  },
  {
   "cell_type": "markdown",
   "metadata": {},
   "source": [
    "### Packages"
   ]
  },
  {
   "cell_type": "code",
   "execution_count": null,
   "metadata": {},
   "outputs": [],
   "source": [
    "import torch\n",
    "import torch.nn as nn\n",
    "from torch.utils import data\n",
    "from torchvision import models\n",
    "import pandas as pd\n",
    "import numpy as np\n",
    "import sys\n",
    "import os\n",
    "from tqdm.notebook import tqdm\n",
    "from sklearn.metrics import confusion_matrix, roc_curve, auc\n",
    "import random"
   ]
  },
  {
   "cell_type": "markdown",
   "metadata": {},
   "source": [
    "### Local"
   ]
  },
  {
   "cell_type": "code",
   "execution_count": null,
   "metadata": {},
   "outputs": [],
   "source": [
    "sys.path.append(\".\")\n",
    "sys.path.append(\"..\")\n",
    "from dataset.patient_dataset import PatientDataset\n",
    "from models.lstm import LSTM\n",
    "from models.omnipotent_resnet import Net\n",
    "from models.combined_net import CombinedNet\n",
    "from visualisation.slice_plotter import plot_patient_slices\n",
    "from visualisation.analysis_plotter import plot_confusion_matrix, plot_roc_curve"
   ]
  },
  {
   "cell_type": "markdown",
   "metadata": {},
   "source": [
    "## Parameters"
   ]
  },
  {
   "cell_type": "code",
   "execution_count": null,
   "metadata": {},
   "outputs": [],
   "source": [
    "### DEFAULT PARAMETERS ###\n",
    "### Data parameters ###\n",
    "DATA_DIR = '../../../sliced_data/train'  # The slices we will train on for each patient\n",
    "DS_DIR = '../../../data_split'\n",
    "TARGET_SLICES = (0, 32)\n",
    "### Model parameters ###\n",
    "MODEL_DIR = '../models'  # Directory where best models are saved\n",
    "TRAINED_MODEL = 'combinednet_006.pt'\n",
    "DEVICE = 'cuda' if torch.cuda.is_available() else 'cpu'  # Train on GPU or CPU\n",
    "RESNET_MODEL_TYPE = 'resnet18'  # Which type of resnet is used by the model\n",
    "### Test parameters ###\n",
    "N_FEATURES = 128\n",
    "BATCH_SIZE = 1"
   ]
  },
  {
   "cell_type": "markdown",
   "metadata": {},
   "source": [
    "## Load Model"
   ]
  },
  {
   "cell_type": "code",
   "execution_count": null,
   "metadata": {},
   "outputs": [],
   "source": [
    "# Load in correct model\n",
    "if RESNET_MODEL_TYPE == \"resnet50\":\n",
    "    model = models.resnet50()\n",
    "elif RESNET_MODEL_TYPE == \"resnet34\":\n",
    "    model = models.resnet34()\n",
    "elif RESNET_MODEL_TYPE == \"resnet18\":\n",
    "    model = models.resnet18()\n",
    "else:\n",
    "    print(f'No resnet with name {RESNET_MODEL_TYPE}')\n",
    "    exit()\n",
    "resnet = Net(model, 'combinednet', N_FEATURES)\n",
    "lstm_net = LSTM(n_features=N_FEATURES, n_hidden=64, n_layers=2)\n",
    "combined_net = CombinedNet(name='combinednet', cnn_net=resnet, lstm_net=lstm_net)\n",
    "combined_net.load_state_dict(torch.load(os.path.join(MODEL_DIR, TRAINED_MODEL), map_location=DEVICE))\n",
    "combined_net.to(DEVICE)\n",
    "print(\"Loaded \"+TRAINED_MODEL)"
   ]
  },
  {
   "cell_type": "markdown",
   "metadata": {},
   "source": [
    "## Load Data"
   ]
  },
  {
   "cell_type": "code",
   "execution_count": null,
   "metadata": {},
   "outputs": [],
   "source": [
    "val_df = pd.read_csv(os.path.join(DS_DIR, \"val_df.csv\"), names=[\"patient_nr\", \"slice_nr\", \"class\"])\n",
    "print(f\"\\nNumber of unique patient numbers in validation set: {len(np.unique(val_df['patient_nr']))}\")\n",
    "print(f\"Number of unique slice numbers in validation set:   {len(np.unique(val_df['slice_nr']))}\")\n",
    "print(f\"Number of unique class values in validation set:    {len(np.unique(val_df['class']))}\")\n",
    "    \n",
    "val_patients = pd.read_csv(os.path.join(DS_DIR, \"val_patients.csv\"), names=[\"patient_nr\"]).to_numpy().flatten()\n",
    "print(f\"Number of patient numbers in the validation patients list: {len(val_patients)}\")"
   ]
  },
  {
   "cell_type": "code",
   "execution_count": null,
   "metadata": {},
   "outputs": [],
   "source": [
    "print(val_df)"
   ]
  },
  {
   "cell_type": "markdown",
   "metadata": {},
   "source": [
    "##  Dataloader"
   ]
  },
  {
   "cell_type": "code",
   "execution_count": null,
   "metadata": {},
   "outputs": [],
   "source": [
    "analysis_set = PatientDataset(val_df, val_patients, TARGET_SLICES, DATA_DIR)\n",
    "analysis_loader = data.DataLoader(analysis_set, batch_size=BATCH_SIZE, shuffle=False, num_workers=os.cpu_count())"
   ]
  },
  {
   "cell_type": "markdown",
   "metadata": {},
   "source": [
    "## Test Model"
   ]
  },
  {
   "cell_type": "code",
   "execution_count": null,
   "metadata": {},
   "outputs": [],
   "source": [
    "combined_net.eval()\n",
    "false_positives = []\n",
    "false_negatives = []\n",
    "probabilities = []\n",
    "predictions = []\n",
    "targets = []\n",
    "    \n",
    "for batch_idx, (image, target) in tqdm(enumerate(analysis_loader), total=len(analysis_loader), desc=\"Testing validation patients\", leave=False):\n",
    "    image = image.float().to(DEVICE)\n",
    "    target = target.int().detach().cpu().data.numpy()[0]\n",
    "    output = combined_net(image).detach().cpu()\n",
    "    image = np.squeeze(image.detach().cpu().data.numpy())\n",
    "    \n",
    "    # Compute probabilities (requirement: round to 5 decimals)\n",
    "    probability = np.round(torch.sigmoid(output).numpy(), 5)\n",
    "    \n",
    "    # Compute class from probability (>0.5 = abnormal)\n",
    "    prediction = (probability > 0.5).astype(np.uint8)\n",
    "    \n",
    "    # Save probability, predicted and target values\n",
    "    probabilities.append(probability)\n",
    "    predictions.append(prediction)\n",
    "    targets.append(target)\n",
    "    \n",
    "    # Save wrongly predicted images\n",
    "    if(not bool(target) and bool(prediction)):\n",
    "        false_positives.append(image)\n",
    "    if(bool(target) and not bool(prediction)):\n",
    "        false_negatives.append(image)"
   ]
  },
  {
   "cell_type": "markdown",
   "metadata": {},
   "source": [
    "## Confusion Matrix"
   ]
  },
  {
   "cell_type": "code",
   "execution_count": null,
   "metadata": {},
   "outputs": [],
   "source": [
    "plot_confusion_matrix(targets, predictions, title = \"Patients Labeled by Network\")"
   ]
  },
  {
   "cell_type": "code",
   "execution_count": null,
   "metadata": {},
   "outputs": [],
   "source": [
    "tn, fp, fn, tp = confusion_matrix(targets, predictions).ravel()"
   ]
  },
  {
   "cell_type": "code",
   "execution_count": null,
   "metadata": {},
   "outputs": [],
   "source": [
    "print(\"True Positives: \"+str(tp))\n",
    "print(\"True Negatives: \"+str(tn))\n",
    "print(\"False Positives: \"+str(fp))\n",
    "print(\"False Negatives: \"+str(fn))"
   ]
  },
  {
   "cell_type": "markdown",
   "metadata": {},
   "source": [
    "## Classification Metrics"
   ]
  },
  {
   "cell_type": "code",
   "execution_count": null,
   "metadata": {},
   "outputs": [],
   "source": [
    "accuracy = (tp + tn) / (tp + tn + fp + fn)\n",
    "sensitivity = tp / (tp + fn)\n",
    "specificity = tn / (tn + fp)\n",
    "print(\"Accuracy: {:.2f}\".format(accuracy))\n",
    "print(\"Sensitivity: {:.2f}\".format(sensitivity))\n",
    "print(\"Specificity: {:.2f}\".format(specificity))"
   ]
  },
  {
   "cell_type": "markdown",
   "metadata": {},
   "source": [
    "## ROC-curve & AUC "
   ]
  },
  {
   "cell_type": "code",
   "execution_count": null,
   "metadata": {},
   "outputs": [],
   "source": [
    "fpr, tpr, thresholds = roc_curve(targets, probabilities)\n",
    "roc_auc = auc(fpr, tpr)\n",
    "plot_roc_curve(fpr, tpr, roc_auc)"
   ]
  },
  {
   "cell_type": "markdown",
   "metadata": {},
   "source": [
    "## Plot Images"
   ]
  },
  {
   "cell_type": "markdown",
   "metadata": {},
   "source": [
    "### False Positive Patient\n",
    "Normal patient labeled as an abnormal patient."
   ]
  },
  {
   "cell_type": "code",
   "execution_count": null,
   "metadata": {},
   "outputs": [],
   "source": [
    "fp_patient = random.choice(false_positives)\n",
    "plot_patient_slices(fp_patient)"
   ]
  },
  {
   "cell_type": "markdown",
   "metadata": {},
   "source": [
    "### False Negative Patient\n",
    "Abnormal patient labeled as a normal patient."
   ]
  },
  {
   "cell_type": "code",
   "execution_count": null,
   "metadata": {},
   "outputs": [],
   "source": [
    "fn_patient = random.choice(false_negatives)\n",
    "plot_patient_slices(fn_patient)"
   ]
  }
 ],
 "metadata": {
  "kernelspec": {
   "display_name": "Python 3",
   "language": "python",
   "name": "python3"
  },
  "language_info": {
   "codemirror_mode": {
    "name": "ipython",
    "version": 3
   },
   "file_extension": ".py",
   "mimetype": "text/x-python",
   "name": "python",
   "nbconvert_exporter": "python",
   "pygments_lexer": "ipython3",
   "version": "3.7.6"
  }
 },
 "nbformat": 4,
 "nbformat_minor": 4
}
