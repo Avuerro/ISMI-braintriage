{
 "cells": [
  {
   "cell_type": "markdown",
   "metadata": {},
   "source": [
    "# Failure Analysis"
   ]
  },
  {
   "cell_type": "markdown",
   "metadata": {},
   "source": [
    "## Imports"
   ]
  },
  {
   "cell_type": "markdown",
   "metadata": {},
   "source": [
    "### Packages"
   ]
  },
  {
   "cell_type": "code",
   "execution_count": 1,
   "metadata": {},
   "outputs": [],
   "source": [
    "import torch\n",
    "import torch.nn as nn\n",
    "from torch.utils import data\n",
    "from torchvision import models\n",
    "import pandas as pd\n",
    "import numpy as np\n",
    "import argparse\n",
    "import sys\n",
    "import os\n",
    "import argparse\n",
    "from tqdm import tqdm\n",
    "from sklearn.metrics import confusion_matrix\n",
    "import matplotlib.pyplot as plt\n",
    "import seaborn as sn"
   ]
  },
  {
   "cell_type": "markdown",
   "metadata": {},
   "source": [
    "### Local"
   ]
  },
  {
   "cell_type": "code",
   "execution_count": 2,
   "metadata": {},
   "outputs": [],
   "source": [
    "sys.path.append(\".\")\n",
    "sys.path.append(\"..\")\n",
    "from dataset.patient_dataset import PatientDataset\n",
    "from models.lstm import LSTM\n",
    "from models.omnipotent_resnet import Net\n",
    "from models.combined_net import CombinedNet"
   ]
  },
  {
   "cell_type": "markdown",
   "metadata": {},
   "source": [
    "## Parameters"
   ]
  },
  {
   "cell_type": "code",
   "execution_count": 3,
   "metadata": {},
   "outputs": [],
   "source": [
    "### DEFAULT PARAMETERS ###\n",
    "### Data parameters ###\n",
    "DATA_DIR = '../../../data/sliced-data/train'  # The slices we will train on for each patient\n",
    "DS_DIR = '../../../data/data-split'\n",
    "TARGET_SLICES = (0, 32)\n",
    "### Model parameters ###\n",
    "MODEL_DIR = '../../../models'  # Directory where best models are saved\n",
    "TRAINED_MODEL = 'lstm_008.pt'\n",
    "DEVICE = 'cuda' if torch.cuda.is_available() else 'cpu'  # Train on GPU or CPU\n",
    "RESNET_MODEL_TYPE = 'resnet34'  # Which type of resnet is used by the model\n",
    "### Test parameters ###\n",
    "N_FEATURES = 128\n",
    "BATCH_SIZE = 1"
   ]
  },
  {
   "cell_type": "markdown",
   "metadata": {},
   "source": [
    "## Load Model"
   ]
  },
  {
   "cell_type": "code",
   "execution_count": 4,
   "metadata": {},
   "outputs": [
    {
     "name": "stdout",
     "output_type": "stream",
     "text": [
      "Loaded lstm_008.pt\n"
     ]
    }
   ],
   "source": [
    "model = models.resnet34()\n",
    "resnet = Net(model, 'combinednet', N_FEATURES)\n",
    "lstm_net = LSTM(n_features=N_FEATURES, n_hidden=64, n_layers=2)\n",
    "combined_net = CombinedNet(name='combinednet', cnn_net=resnet, lstm_net=lstm_net)\n",
    "combined_net.load_state_dict(torch.load(os.path.join(MODEL_DIR, TRAINED_MODEL)))\n",
    "combined_net.to(DEVICE)\n",
    "print(\"Loaded \"+TRAINED_MODEL)"
   ]
  },
  {
   "cell_type": "markdown",
   "metadata": {},
   "source": [
    "## Load Data"
   ]
  },
  {
   "cell_type": "code",
   "execution_count": 5,
   "metadata": {},
   "outputs": [
    {
     "name": "stdout",
     "output_type": "stream",
     "text": [
      "\n",
      "Number of unique patient numbers in validation set: 18\n",
      "Number of unique slice numbers in validation set:   32\n",
      "Number of unique class values in validation set:    2\n",
      "Number of patient numbers in the validation patients list: 18\n"
     ]
    }
   ],
   "source": [
    "val_df = pd.read_csv(os.path.join(DS_DIR, \"train_df.csv\"), names=[\"patient_nr\", \"slice_nr\", \"class\"])\n",
    "print(f\"\\nNumber of unique patient numbers in validation set: {len(np.unique(val_df['patient_nr']))}\")\n",
    "print(f\"Number of unique slice numbers in validation set:   {len(np.unique(val_df['slice_nr']))}\")\n",
    "print(f\"Number of unique class values in validation set:    {len(np.unique(val_df['class']))}\")\n",
    "    \n",
    "val_patients = pd.read_csv(os.path.join(DS_DIR, \"train_patients.csv\"), names=[\"patient_nr\"]).to_numpy().flatten()\n",
    "print(f\"Number of patient numbers in the validation patients list: {len(val_patients)}\")"
   ]
  },
  {
   "cell_type": "code",
   "execution_count": 6,
   "metadata": {},
   "outputs": [
    {
     "name": "stdout",
     "output_type": "stream",
     "text": [
      "     patient_nr  slice_nr  class\n",
      "0           239         0   True\n",
      "1           239         1   True\n",
      "2           239         2   True\n",
      "3           239         3   True\n",
      "4           239         4   True\n",
      "..          ...       ...    ...\n",
      "635         670        27  False\n",
      "636         670        28  False\n",
      "637         670        29  False\n",
      "638         670        30  False\n",
      "639         670        31  False\n",
      "\n",
      "[576 rows x 3 columns]\n"
     ]
    }
   ],
   "source": [
    "print(val_df)"
   ]
  },
  {
   "cell_type": "markdown",
   "metadata": {},
   "source": [
    "##  Dataloader"
   ]
  },
  {
   "cell_type": "code",
   "execution_count": 7,
   "metadata": {},
   "outputs": [],
   "source": [
    "analysis_set = PatientDataset(val_df, val_patients, TARGET_SLICES, DATA_DIR)\n",
    "analysis_loader = data.DataLoader(analysis_set, batch_size=BATCH_SIZE, shuffle=False, num_workers=os.cpu_count())"
   ]
  },
  {
   "cell_type": "markdown",
   "metadata": {},
   "source": [
    "## Test Model"
   ]
  },
  {
   "cell_type": "code",
   "execution_count": 8,
   "metadata": {},
   "outputs": [
    {
     "name": "stderr",
     "output_type": "stream",
     "text": [
      "#analysis_batches:   6%|▌         | 1/18 [00:01<00:28,  1.68s/it]"
     ]
    },
    {
     "name": "stdout",
     "output_type": "stream",
     "text": [
      "target: 0\n",
      "class: 1\n",
      "(32, 3, 426, 426)\n"
     ]
    },
    {
     "name": "stderr",
     "output_type": "stream",
     "text": [
      "#analysis_batches:  11%|█         | 2/18 [00:02<00:21,  1.37s/it]"
     ]
    },
    {
     "name": "stdout",
     "output_type": "stream",
     "text": [
      "target: 1\n",
      "class: 1\n",
      "(32, 3, 426, 426)\n"
     ]
    },
    {
     "name": "stderr",
     "output_type": "stream",
     "text": [
      "#analysis_batches:  17%|█▋        | 3/18 [00:03<00:17,  1.17s/it]"
     ]
    },
    {
     "name": "stdout",
     "output_type": "stream",
     "text": [
      "target: 0\n",
      "class: 0\n",
      "(32, 3, 426, 426)\n"
     ]
    },
    {
     "name": "stderr",
     "output_type": "stream",
     "text": [
      "#analysis_batches:  22%|██▏       | 4/18 [00:03<00:14,  1.02s/it]"
     ]
    },
    {
     "name": "stdout",
     "output_type": "stream",
     "text": [
      "target: 1\n",
      "class: 0\n",
      "(32, 3, 426, 426)\n"
     ]
    },
    {
     "name": "stderr",
     "output_type": "stream",
     "text": [
      "#analysis_batches:  28%|██▊       | 5/18 [00:04<00:11,  1.09it/s]"
     ]
    },
    {
     "name": "stdout",
     "output_type": "stream",
     "text": [
      "target: 0\n",
      "class: 0\n",
      "(32, 3, 426, 426)\n"
     ]
    },
    {
     "name": "stderr",
     "output_type": "stream",
     "text": [
      "#analysis_batches:  33%|███▎      | 6/18 [00:05<00:10,  1.19it/s]"
     ]
    },
    {
     "name": "stdout",
     "output_type": "stream",
     "text": [
      "target: 1\n",
      "class: 1\n",
      "(32, 3, 426, 426)\n"
     ]
    },
    {
     "name": "stderr",
     "output_type": "stream",
     "text": [
      "#analysis_batches:  39%|███▉      | 7/18 [00:05<00:08,  1.25it/s]"
     ]
    },
    {
     "name": "stdout",
     "output_type": "stream",
     "text": [
      "target: 0\n",
      "class: 0\n",
      "(32, 3, 426, 426)\n"
     ]
    },
    {
     "name": "stderr",
     "output_type": "stream",
     "text": [
      "#analysis_batches:  44%|████▍     | 8/18 [00:06<00:07,  1.32it/s]"
     ]
    },
    {
     "name": "stdout",
     "output_type": "stream",
     "text": [
      "target: 1\n",
      "class: 1\n",
      "(32, 3, 426, 426)\n"
     ]
    },
    {
     "name": "stderr",
     "output_type": "stream",
     "text": [
      "#analysis_batches:  50%|█████     | 9/18 [00:07<00:06,  1.34it/s]"
     ]
    },
    {
     "name": "stdout",
     "output_type": "stream",
     "text": [
      "target: 0\n",
      "class: 1\n",
      "(32, 3, 426, 426)\n"
     ]
    },
    {
     "name": "stderr",
     "output_type": "stream",
     "text": [
      "#analysis_batches:  56%|█████▌    | 10/18 [00:07<00:05,  1.39it/s]"
     ]
    },
    {
     "name": "stdout",
     "output_type": "stream",
     "text": [
      "target: 1\n",
      "class: 1\n",
      "(32, 3, 426, 426)\n"
     ]
    },
    {
     "name": "stderr",
     "output_type": "stream",
     "text": [
      "#analysis_batches:  61%|██████    | 11/18 [00:08<00:05,  1.40it/s]"
     ]
    },
    {
     "name": "stdout",
     "output_type": "stream",
     "text": [
      "target: 0\n",
      "class: 1\n",
      "(32, 3, 426, 426)\n"
     ]
    },
    {
     "name": "stderr",
     "output_type": "stream",
     "text": [
      "#analysis_batches:  67%|██████▋   | 12/18 [00:09<00:04,  1.43it/s]"
     ]
    },
    {
     "name": "stdout",
     "output_type": "stream",
     "text": [
      "target: 1\n",
      "class: 1\n",
      "(32, 3, 426, 426)\n"
     ]
    },
    {
     "name": "stderr",
     "output_type": "stream",
     "text": [
      "#analysis_batches:  72%|███████▏  | 13/18 [00:09<00:03,  1.44it/s]"
     ]
    },
    {
     "name": "stdout",
     "output_type": "stream",
     "text": [
      "target: 0\n",
      "class: 0\n",
      "(32, 3, 426, 426)\n"
     ]
    },
    {
     "name": "stderr",
     "output_type": "stream",
     "text": [
      "#analysis_batches:  78%|███████▊  | 14/18 [00:10<00:02,  1.47it/s]"
     ]
    },
    {
     "name": "stdout",
     "output_type": "stream",
     "text": [
      "target: 1\n",
      "class: 1\n",
      "(32, 3, 426, 426)\n"
     ]
    },
    {
     "name": "stderr",
     "output_type": "stream",
     "text": [
      "#analysis_batches:  83%|████████▎ | 15/18 [00:11<00:02,  1.45it/s]"
     ]
    },
    {
     "name": "stdout",
     "output_type": "stream",
     "text": [
      "target: 0\n",
      "class: 1\n",
      "(32, 3, 426, 426)\n"
     ]
    },
    {
     "name": "stderr",
     "output_type": "stream",
     "text": [
      "#analysis_batches:  89%|████████▉ | 16/18 [00:11<00:01,  1.47it/s]"
     ]
    },
    {
     "name": "stdout",
     "output_type": "stream",
     "text": [
      "target: 1\n",
      "class: 1\n",
      "(32, 3, 426, 426)\n"
     ]
    },
    {
     "name": "stderr",
     "output_type": "stream",
     "text": [
      "#analysis_batches:  94%|█████████▍| 17/18 [00:12<00:00,  1.46it/s]"
     ]
    },
    {
     "name": "stdout",
     "output_type": "stream",
     "text": [
      "target: 0\n",
      "class: 0\n",
      "(32, 3, 426, 426)\n"
     ]
    },
    {
     "name": "stderr",
     "output_type": "stream",
     "text": [
      "                                                                  "
     ]
    },
    {
     "name": "stdout",
     "output_type": "stream",
     "text": [
      "target: 1\n",
      "class: 1\n",
      "(32, 3, 426, 426)\n"
     ]
    },
    {
     "name": "stderr",
     "output_type": "stream",
     "text": [
      "\r"
     ]
    }
   ],
   "source": [
    "combined_net.eval()\n",
    "false_positives = []\n",
    "false_negatives = []\n",
    "predictions = []\n",
    "targets = []\n",
    "    \n",
    "for batch_idx, (image, target) in tqdm(enumerate(analysis_loader), total=len(analysis_loader), desc=\"#analysis_batches\", leave=False):\n",
    "    image = image.float().to(DEVICE)\n",
    "    target = target.int().detach().cpu().data.numpy()[0]\n",
    "    output = combined_net(image).detach().cpu()\n",
    "    image = np.squeeze(image.detach().cpu().data.numpy())\n",
    "    \n",
    "    # Compute probabilities (requirement: round to 5 decimals)\n",
    "    probability = np.round(torch.sigmoid(output).numpy(), 5)\n",
    "    \n",
    "    # Compute class from probability (>0.5 = abnormal)\n",
    "    prediction = (probability > 0.5).astype(np.uint8)\n",
    "    \n",
    "    # Save target and predicted values\n",
    "    predictions.append(prediction)\n",
    "    targets.append(target)\n",
    "    \n",
    "    print('target: '+str(target))\n",
    "    print('class: '+str(prediction))\n",
    "    print(image.shape)\n",
    "    \n",
    "    # Save wrongly predicted images\n",
    "    if((target == 0) & (prediction == 1)):\n",
    "        false_positives.append(image)\n",
    "        \n",
    "    if((target == 1) & (prediction == 0)):\n",
    "        false_negatives.append(image)"
   ]
  },
  {
   "cell_type": "markdown",
   "metadata": {},
   "source": [
    "## Confusion Matrix"
   ]
  },
  {
   "cell_type": "code",
   "execution_count": 24,
   "metadata": {},
   "outputs": [
    {
     "data": {
      "image/png": "[encoded data removed]",
      "text/plain": [
       "<Figure size 432x288 with 2 Axes>"
      ]
     },
     "metadata": {
      "needs_background": "light"
     },
     "output_type": "display_data"
    }
   ],
   "source": [
    "cm = confusion_matrix(targets, predictions)\n",
    "labels = ['Abnormal', 'Normal']\n",
    "sn.heatmap(cm, annot=True, cmap='RdPu', yticklabels=labels, xticklabels=labels)\n",
    "plt.xlabel(\"Predicted\")\n",
    "plt.ylabel(\"Target\")\n",
    "plt.title('Patient Labels Predicted by Combined Network')\n",
    "plt.show()"
   ]
  },
  {
   "cell_type": "code",
   "execution_count": 15,
   "metadata": {},
   "outputs": [],
   "source": [
    "tn, fp, fn, tp = confusion_matrix(targets, predictions).ravel()"
   ]
  },
  {
   "cell_type": "code",
   "execution_count": 26,
   "metadata": {},
   "outputs": [
    {
     "name": "stdout",
     "output_type": "stream",
     "text": [
      "True Positives: 8\n",
      "True Negatives: 5\n",
      "False Positives: 4\n",
      "False Negatives: 1\n"
     ]
    }
   ],
   "source": [
    "print(\"True Positives: \"+str(tp))\n",
    "print(\"True Negatives: \"+str(tn))\n",
    "print(\"False Positives: \"+str(fp))\n",
    "print(\"False Negatives: \"+str(fn))"
   ]
  },
  {
   "cell_type": "markdown",
   "metadata": {},
   "source": [
    "## Plot Images"
   ]
  },
  {
   "cell_type": "code",
   "execution_count": null,
   "metadata": {},
   "outputs": [],
   "source": [
    "#TODO"
   ]
  }
 ],
 "metadata": {
  "kernelspec": {
   "display_name": "Python 3",
   "language": "python",
   "name": "python3"
  },
  "language_info": {
   "codemirror_mode": {
    "name": "ipython",
    "version": 3
   },
   "file_extension": ".py",
   "mimetype": "text/x-python",
   "name": "python",
   "nbconvert_exporter": "python",
   "pygments_lexer": "ipython3",
   "version": "3.6.3"
  }
 },
 "nbformat": 4,
 "nbformat_minor": 4
}
