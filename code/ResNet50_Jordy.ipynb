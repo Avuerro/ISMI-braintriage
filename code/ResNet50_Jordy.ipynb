{
 "cells": [
  {
   "cell_type": "markdown",
   "metadata": {},
   "source": [
    "# Braintriage CNN: Pre-Trained ResNet50"
   ]
  },
  {
   "cell_type": "markdown",
   "metadata": {},
   "source": [
    "# Import packages\n",
    "Here we import important packages. Add any packages you need."
   ]
  },
  {
   "cell_type": "code",
   "execution_count": 1,
   "metadata": {},
   "outputs": [],
   "source": [
    "import torch\n",
    "import torch.nn as nn\n",
    "import torch.nn.functional as F\n",
    "from torch.utils import data\n",
    "from torchvision import transforms\n",
    "from torchvision import models\n",
    "import os\n",
    "import SimpleITK as sitk\n",
    "import matplotlib\n",
    "import matplotlib.pyplot as plt\n",
    "import numpy as np\n",
    "import math as math\n",
    "import csv\n",
    "import ssl\n",
    "\n",
    "ssl._create_default_https_context = ssl._create_unverified_context"
   ]
  },
  {
   "cell_type": "code",
   "execution_count": 2,
   "metadata": {},
   "outputs": [
    {
     "name": "stdout",
     "output_type": "stream",
     "text": [
      "The Zen of Python, by Tim Peters\n",
      "\n",
      "Beautiful is better than ugly.\n",
      "Explicit is better than implicit.\n",
      "Simple is better than complex.\n",
      "Complex is better than complicated.\n",
      "Flat is better than nested.\n",
      "Sparse is better than dense.\n",
      "Readability counts.\n",
      "Special cases aren't special enough to break the rules.\n",
      "Although practicality beats purity.\n",
      "Errors should never pass silently.\n",
      "Unless explicitly silenced.\n",
      "In the face of ambiguity, refuse the temptation to guess.\n",
      "There should be one-- and preferably only one --obvious way to do it.\n",
      "Although that way may not be obvious at first unless you're Dutch.\n",
      "Now is better than never.\n",
      "Although never is often better than *right* now.\n",
      "If the implementation is hard to explain, it's a bad idea.\n",
      "If the implementation is easy to explain, it may be a good idea.\n",
      "Namespaces are one honking great idea -- let's do more of those!\n"
     ]
    }
   ],
   "source": [
    "import this"
   ]
  },
  {
   "cell_type": "markdown",
   "metadata": {},
   "source": [
    "### Change dirs below to your specific case"
   ]
  },
  {
   "cell_type": "code",
   "execution_count": 3,
   "metadata": {},
   "outputs": [],
   "source": [
    "# Data in & out dirs\n",
    "in_dir = '/Users/jordynaus/Desktop/ismi/BrainTriage/train/full'\n",
    "out_dir = '/Users/jordynaus/Desktop/ismi/out'\n",
    "\n",
    "### Specify data directory (the same as out_dir)    \n",
    "data_dir = '/Users/jordynaus/Desktop/ismi/out'\n",
    "\n",
    "# Model Dir for saving training parameters:\n",
    "model_dir = '/Users/jordynaus/Desktop/ismi/models'"
   ]
  },
  {
   "cell_type": "markdown",
   "metadata": {},
   "source": [
    "# Create dataset\n",
    "First we select slices from the full dataset. Here we show an example where the center slice is selected for the T1, T2 and T2-FLAIR scan. These are combined in a torch tensor to allow for quick processing by the network."
   ]
  },
  {
   "cell_type": "code",
   "execution_count": 4,
   "metadata": {},
   "outputs": [],
   "source": [
    "if not os.path.exists(out_dir):\n",
    "    os.makedirs(out_dir)\n",
    "            \n",
    "for klass in os.listdir(in_dir):\n",
    "\n",
    "    for patient in os.listdir(os.path.join(in_dir, klass)):\n",
    "\n",
    "        ## Check if patient has not been processed yet\n",
    "        out_path = os.path.join(out_dir, patient+'.pt')\n",
    "        if not os.path.exists(out_path):\n",
    "\n",
    "            ## Paths to the image files\n",
    "            t1_path = os.path.join(in_dir,klass,patient,'T1.mha')\n",
    "            t2_path = os.path.join(in_dir,klass,patient,'T2.mha')\n",
    "            t2_flair_path = os.path.join(in_dir,klass,patient,'T2-FLAIR.mha')\n",
    "\n",
    "            ## Load all images\n",
    "            t1_image = sitk.ReadImage(t1_path)\n",
    "            t2_image = sitk.ReadImage(t2_path)\n",
    "            t2_flair_image = sitk.ReadImage(t2_flair_path)\n",
    "\n",
    "            ## Check if the number of slices is equal in all series\n",
    "            if t1_image.GetSize()[-1] == t2_image.GetSize()[-1] == t2_flair_image.GetSize()[-1]:\n",
    "                \n",
    "                with open(out_dir+'/labels_slices_z.csv', 'a') as csvfile:\n",
    "                    w = csv.writer(csvfile, delimiter=',')\n",
    "\n",
    "                    if klass == 'normal':\n",
    "                        w.writerow([patient, 0])\n",
    "                    elif klass == 'abnormal':\n",
    "                        w.writerow([patient, 1])\n",
    "                \n",
    "                ## Determine center slice of images\n",
    "                z = int(t1_image.GetSize()[-1]/2)\n",
    "\n",
    "                ## Convert the images to numpy arrays\n",
    "                t1_array = sitk.GetArrayFromImage(t1_image)\n",
    "                t2_array = sitk.GetArrayFromImage(t2_image)\n",
    "                t2_flair_array = sitk.GetArrayFromImage(t2_flair_image)\n",
    "\n",
    "                ## Extract the center slices from the images\n",
    "                t1_slice = t1_array[z,:,:]\n",
    "                t2_slice = t2_array[z,:,:]\n",
    "                t2_flair_slice = t2_flair_array[z,:,:]\n",
    "\n",
    "                ## Create one data array\n",
    "                comb_data = np.zeros((3,512,512))\n",
    "                comb_data[0,:,:] = t1_slice\n",
    "                comb_data[1,:,:] = t2_slice\n",
    "                comb_data[2,:,:] = t2_flair_slice\n",
    "                \n",
    "                ## Save as torch tensor for quick loading during training\n",
    "                torch.save(torch.from_numpy(comb_data.astype('float32')),out_dir+'/'+patient+'.pt')\n",
    "\n",
    "                \n",
    "                print(\"Slices saved for:\", patient)\n",
    "\n",
    "                del t1_array, t2_array, t2_flair_array\n",
    "\n",
    "            else:\n",
    "                print(\"Number of slices not equal for:\", patient)\n",
    "                del t1_image, t2_image, t2_flair_image\n",
    "        else:\n",
    "            continue"
   ]
  },
  {
   "cell_type": "markdown",
   "metadata": {},
   "source": [
    "We create a dataset class that is compatible with the 'data_loader' from PyTorch. This allows us to feed our images to the network efficiently during training and validation. We read the labels for the different patients from a CSV file and convert this into a dictionary. Based on these labels we split the data in a training and validation set (you can choose a different ratio)."
   ]
  },
  {
   "cell_type": "code",
   "execution_count": 5,
   "metadata": {},
   "outputs": [],
   "source": [
    "### Define custom dataset class ###\n",
    "class Dataset(data.Dataset):\n",
    "  #'Characterizes a dataset for PyTorch'\n",
    "    def __init__(self, list_IDs, labels, location, transformation = None):\n",
    "        'Initialization'\n",
    "        self.labels = labels\n",
    "        self.list_IDs = list_IDs\n",
    "        self.loc = location\n",
    "        self.transformation = transformation\n",
    "\n",
    "    def __len__(self):\n",
    "        'Denotes the total number of samples'\n",
    "        return len(self.list_IDs)\n",
    "\n",
    "    def __getitem__(self, index):\n",
    "        'Generates one sample of data'\n",
    "        # Select sample\n",
    "        ID = self.list_IDs[index]\n",
    "        # Load data and get label\n",
    "        if(self.transformation is not None):\n",
    "            X = self.transformation(torch.load(self.loc + '/' + ID + '.pt'))\n",
    "        else:\n",
    "            X = torch.load(self.loc + '/' + ID + '.pt')#/2749         \n",
    "        y = torch.FloatTensor([self.labels[ID]])\n",
    "\n",
    "        return X, y\n",
    "\n",
    "### Load labels and convert to dict ###\n",
    "labelsn = {}\n",
    "labelsa = {}\n",
    "\n",
    "n=0\n",
    "a=0\n",
    "\n",
    "with open(data_dir+'/labels_slices_z.csv', 'r') as csvfile:\n",
    "    reader = csv.reader(csvfile)\n",
    "    for rows in reader:\n",
    "        if float(rows[1])==0 and n<500:\n",
    "            n = n+1\n",
    "            labelsn[rows[0]] = float(rows[1])\n",
    "        elif float(rows[1])==1 and a<500:\n",
    "            a = a+1\n",
    "            labelsa[rows[0]] = float(rows[1])\n",
    "labels = {**labelsn,**labelsa}\n",
    "            \n",
    "### Based on the labels, split data in training and validation set ###\n",
    "IDn = np.asarray(list(labelsn.keys()))\n",
    "IDa = np.asarray(list(labelsa.keys()))\n",
    "n_samples = IDa.shape[0]\n",
    "\n",
    "IDn = IDn[np.random.permutation(n_samples)]\n",
    "IDa = IDa[np.random.permutation(n_samples)]\n",
    "\n",
    "data_sets = {}\n",
    "data_sets['train'] = np.concatenate((IDn[:int(0.8*n_samples)],IDa[:int(0.8*n_samples)]))\n",
    "data_sets['validation'] = np.concatenate((IDn[int(0.8*n_samples):],IDa[int(0.8*n_samples):]))\n",
    "\n",
    "\n",
    "train_transforms = transforms.Compose([\n",
    "    transforms.Normalize(mean=[0.485, 0.456, 0.406], std=[0.229, 0.224, 0.225])\n",
    "])\n",
    "training_set = Dataset(data_sets['train'], labels, data_dir, train_transforms)\n",
    "validation_set = Dataset(data_sets['validation'], labels, data_dir, train_transforms)"
   ]
  },
  {
   "cell_type": "markdown",
   "metadata": {},
   "source": [
    "You can visually inspect the data by making a plot of a scan."
   ]
  },
  {
   "cell_type": "code",
   "execution_count": 6,
   "metadata": {},
   "outputs": [
    {
     "name": "stdout",
     "output_type": "stream",
     "text": [
      "torch.Size([3, 512, 512])\n"
     ]
    },
    {
     "data": {
      "text/plain": [
       "<matplotlib.image.AxesImage at 0x1316a9190>"
      ]
     },
     "execution_count": 6,
     "metadata": {},
     "output_type": "execute_result"
    },
    {
     "data": {
      "image/png": "[encoded data removed]",
      "text/plain": [
       "<Figure size 432x288 with 1 Axes>"
      ]
     },
     "metadata": {
      "needs_background": "light"
     },
     "output_type": "display_data"
    }
   ],
   "source": [
    "import matplotlib\n",
    "import matplotlib.pyplot as plt\n",
    "\n",
    "X = torch.load(data_dir + '/' + '16' + '.pt')#/2749\n",
    "print(X.shape)\n",
    "plt.figure()\n",
    "plt.imshow(X.data.numpy()[2,:,:])"
   ]
  },
  {
   "cell_type": "markdown",
   "metadata": {},
   "source": [
    "# Defining the model\n",
    "\n",
    "When using a Pre-Trained ResNet-50, we only need to make sure that our network has correct final layers (so: correct input shape, correct output shape)"
   ]
  },
  {
   "cell_type": "code",
   "execution_count": 7,
   "metadata": {},
   "outputs": [],
   "source": [
    "class Net(nn.Module):\n",
    "    \n",
    "    def __init__(self, model):\n",
    "        super(Net, self).__init__()\n",
    "        self.model = model\n",
    "        fc_in = model.fc.in_features\n",
    "        \n",
    "        # Remove last layer of original model\n",
    "        self.model = nn.Sequential(*list(model.children())[:-1])\n",
    " \n",
    "        # Final layers\n",
    "        self.fc1 = nn.Linear(2048, 128)  \n",
    "        self.fc2 = nn.Linear(128,1)\n",
    "        #self.sm1 = nn.Softmax(1)\n",
    "\n",
    "    \n",
    "    def forward(self, x):\n",
    "        x = self.model(x)\n",
    "        \n",
    "        # Turn x into the right shape\n",
    "        x = x.view(x.size(0), -1)\n",
    "        \n",
    "        # Put output x through our self defined layers\n",
    "        x = self.fc1(x)\n",
    "        out = self.fc2(x)\n",
    "        \n",
    "        return out"
   ]
  },
  {
   "cell_type": "markdown",
   "metadata": {},
   "source": [
    "# Initialize model\n",
    "Here we set the different training and model parameters. The model is initialized and a loss function and optimizer are choosen. Finally a training and validation iterator is created. In the cell below this cell, we initialize ResNet-50 pre-trained model."
   ]
  },
  {
   "cell_type": "code",
   "execution_count": 8,
   "metadata": {},
   "outputs": [],
   "source": [
    "# ### Parameters ###\n",
    "device = 0\n",
    "epochs = 10\n",
    "batch_size = 5\n",
    "in_channels = 3\n",
    "outsize = 1\n",
    "\n",
    "\n",
    "\n",
    "# Load Pre-Trained ResNet-50\n",
    "model = models.resnet50(pretrained=True)\n",
    "\n",
    "# Change the Pre-Trained Model to our own Defined Model\n",
    "model = Net(model)\n",
    "\n",
    "# ### Loss and optimizer ###\n",
    "criterion = nn.BCEWithLogitsLoss()#nn.BCELoss()\n",
    "optimizer = torch.optim.Adam(model.parameters(), lr=0.000001)\n",
    "\n",
    "# ### Create data generator ###\n",
    "training_iterator = data.DataLoader(training_set, batch_size=batch_size, shuffle = True)\n",
    "validation_iterator = data.DataLoader(validation_set, batch_size=batch_size, shuffle = False)"
   ]
  },
  {
   "cell_type": "markdown",
   "metadata": {},
   "source": [
    "# Training and validation\n",
    "In the next cell the model is trained and validated. The loss is printed and the model is saved after every epoch."
   ]
  },
  {
   "cell_type": "code",
   "execution_count": null,
   "metadata": {
    "scrolled": false
   },
   "outputs": [],
   "source": [
    "### Training and validation ###\n",
    "from torch.autograd import Variable\n",
    "m =nn.Sigmoid()\n",
    "\n",
    "loss_history = {'training': [], 'validation': []}\n",
    "acc_history = {'training': [], 'validation': []}\n",
    "\n",
    "for j in range(epochs):\n",
    "    loss_history['training'].append(0)\n",
    "    acc_history['training'].append(0)\n",
    "\n",
    "    for i, batch in enumerate(training_iterator):\n",
    "\n",
    "        model.train()\n",
    "\n",
    "        images, targets = batch[0] , batch[1]\n",
    "        \n",
    "        y = model(images)\n",
    "        \n",
    "        loss = criterion(y,targets)\n",
    "\n",
    "        optimizer.zero_grad()\n",
    "        loss.backward()\n",
    "\n",
    "        #print(list(model.parameters())[0].grad)\n",
    "        optimizer.step()\n",
    "        \n",
    "        #Accuracy\n",
    "        output = (m(y)>0.5).float()\n",
    "        #print(output)\n",
    "\n",
    "        correct = (output == targets).float().sum()/output.shape[0]\n",
    "\n",
    "        loss_history['training'][-1] += float(loss.data)\n",
    "        acc_history['training'][-1] += float(correct)\n",
    "\n",
    "        #print(loss.data)\n",
    "    loss_history['training'][-1] /= i + 1\n",
    "    acc_history['training'][-1] /= i + 1\n",
    "\n",
    "    loss_history['validation'].append(0)\n",
    "    acc_history['validation'].append(0)\n",
    "\n",
    "    for i, batch in enumerate(validation_iterator):\n",
    "\n",
    "        model.eval()\n",
    "        \n",
    "        images, targets = batch[0], batch[1]\n",
    "\n",
    "        y = model(images)\n",
    "        loss = criterion(y,targets)\n",
    "        \n",
    "        #Accuray\n",
    "        output = (m(y)>0.5).float()\n",
    "        correct = (output == targets).float().sum()/output.shape[0]\n",
    "        #print(output)\n",
    "        loss_history['validation'][-1] += float(loss.data)\n",
    "        acc_history['validation'][-1] += float(correct)\n",
    "\n",
    "    loss_history['validation'][-1] /= i + 1\n",
    "    acc_history['validation'][-1] /= i + 1\n",
    "\n",
    "    print('epoch: {:3d} / {:03d}, training loss: {:.4f}, validation loss: {:.4f}, training accuracy: {:.3f}, validation accuracy: {:.3f}.'.format(j + 1, epochs, loss_history['training'][-1], loss_history['validation'][-1], acc_history['training'][-1], acc_history['validation'][-1]))\n",
    "    np.savez('{:s}/loss_history_{:03d}.npz'.format(model_dir, j), loss_history)\n",
    "    torch.save(model.state_dict(), '{:s}/model_{:03d}.npz'.format(model_dir, j))\n",
    "\n",
    "    "
   ]
  },
  {
   "cell_type": "code",
   "execution_count": null,
   "metadata": {},
   "outputs": [],
   "source": []
  },
  {
   "cell_type": "markdown",
   "metadata": {},
   "source": [
    "# Testing\n",
    "Here we show some example code that you can use to run your model on the test data set once this is provided and create a .csv submission file that you can upload to grand challenge."
   ]
  },
  {
   "cell_type": "markdown",
   "metadata": {},
   "source": [
    "# Select slices for test set\n",
    "Here we do the same as above to select slices from the test set."
   ]
  },
  {
   "cell_type": "code",
   "execution_count": null,
   "metadata": {},
   "outputs": [],
   "source": [
    "in_dir = 'path/to/test_in_dir'\n",
    "out_dir = 'path/to/test_out_dir'\n",
    "\n",
    "\n",
    "if not os.path.exists(out_dir):\n",
    "    os.makedirs(out_dir)\n",
    "            \n",
    "for klass in os.listdir(in_dir):\n",
    "\n",
    "    for patient in os.listdir(os.path.join(in_dir, klass)):\n",
    "\n",
    "        ## Check if patient has not been processed yet\n",
    "        out_path = os.path.join(out_dir, patient+'.pt')\n",
    "        if not os.path.exists(out_path):\n",
    "\n",
    "            ## Paths to the image files\n",
    "            t1_path = os.path.join(in_dir,klass,patient,'T1.mha')\n",
    "            t2_path = os.path.join(in_dir,klass,patient,'T2.mha')\n",
    "            t2_flair_path = os.path.join(in_dir,klass,patient,'T2-FLAIR.mha')\n",
    "\n",
    "            ## Load all images\n",
    "            t1_image = sitk.ReadImage(t1_path)\n",
    "            t2_image = sitk.ReadImage(t2_path)\n",
    "            t2_flair_image = sitk.ReadImage(t2_flair_path)\n",
    "\n",
    "            ## Check if the number of slices is equal in all series\n",
    "            if t1_image.GetSize()[-1] == t2_image.GetSize()[-1] == t2_flair_image.GetSize()[-1]:\n",
    "                \n",
    "                with open(out_dir+'/labels_slices_z_test.csv', 'a') as csvfile:\n",
    "                    w = csv.writer(csvfile, delimiter=',')\n",
    "\n",
    "                    if klass == 'normal':\n",
    "                        w.writerow([patient, 0])\n",
    "                    elif klass == 'abnormal':\n",
    "                        w.writerow([patient, 1])\n",
    "                \n",
    "                ## Determine center slice of images\n",
    "                z = int(t1_image.GetSize()[-1]/2)\n",
    "\n",
    "                ## Convert the images to numpy arrays\n",
    "                t1_array = sitk.GetArrayFromImage(t1_image)\n",
    "                t2_array = sitk.GetArrayFromImage(t2_image)\n",
    "                t2_flair_array = sitk.GetArrayFromImage(t2_flair_image)\n",
    "\n",
    "                ## Extract the center slices from the images\n",
    "                t1_slice = t1_array[z,:,:]\n",
    "                t2_slice = t2_array[z,:,:]\n",
    "                t2_flair_slice = t2_flair_array[z,:,:]\n",
    "\n",
    "                ## Create one data array\n",
    "                comb_data = np.zeros((3,512,512))\n",
    "                comb_data[0,:,:] = t1_slice\n",
    "                comb_data[1,:,:] = t2_slice\n",
    "                comb_data[2,:,:] = t2_flair_slice\n",
    "                \n",
    "                ## Save as torch tensor for quick loading during training\n",
    "                torch.save(torch.from_numpy(comb_data.astype('float32')),out_dir+'/'+patient+'.pt')\n",
    "\n",
    "                \n",
    "                print(\"Slices saved for:\", patient)\n",
    "\n",
    "                del t1_array, t2_array, t2_flair_array\n",
    "\n",
    "            else:\n",
    "                print(\"Number of slices not equal for:\", patient)\n",
    "                del t1_image, t2_image, t2_flair_image\n",
    "        else:\n",
    "            continue"
   ]
  },
  {
   "cell_type": "markdown",
   "metadata": {},
   "source": [
    "We create a test dataset from these slices."
   ]
  },
  {
   "cell_type": "code",
   "execution_count": null,
   "metadata": {},
   "outputs": [],
   "source": [
    "### Specify test data directory ###    \n",
    "test_dir = '/path/to/test_out_dir'\n",
    "\n",
    "### Load labels and convert to dict ###\n",
    "labels_test = {}\n",
    "\n",
    "with open(test_dir+'/labels_slices_z_test.csv', 'r') as csvfile:\n",
    "    reader = csv.reader(csvfile)\n",
    "    for rows in reader:\n",
    "        labels_test[rows[0]] = float(rows[1])\n",
    "           \n",
    "data_sets['test'] = np.asarray(list(labels_test.keys()))\n",
    "\n",
    "test_set = Dataset(data_sets['test'], labels_test, test_dir)\n"
   ]
  },
  {
   "cell_type": "markdown",
   "metadata": {},
   "source": [
    "# Run trained model on the test set.\n",
    "Run the model with the best validation loss on the test set to obtain a 'submission' csv file. You can upload this file to grand challenge to see how well you perform and add your score to the leaderboard."
   ]
  },
  {
   "cell_type": "code",
   "execution_count": null,
   "metadata": {},
   "outputs": [],
   "source": [
    "test_iterator = data.DataLoader(test_set, batch_size=1, shuffle = False)\n",
    "\n",
    "j = 4\n",
    "model = Model(in_channels,outsize).cuda() # if device < 0 else Model(1,outsize).to_gpu(device)\n",
    "checkpoint = torch.load('{:s}/model_{:03d}.npz'.format(model_dir, j))\n",
    "\n",
    "model.load_state_dict(checkpoint)\n",
    "model.eval()\n",
    "m =nn.Sigmoid()\n",
    "\n",
    "with open(test_dir+'/submission.csv', 'a') as csvfile:\n",
    "    w = csv.writer(csvfile, delimiter=',')\n",
    "    w.writerow(['case','probability','class'])\n",
    "    for i, batch in enumerate(test_iterator):\n",
    "        images, targets = batch[0].cuda() , batch[1].cuda()\n",
    "        y = model(images)\n",
    "        prob = m(y)\n",
    "        output = prob>0.5\n",
    "        patient = data_sets['test'][i]\n",
    "        w.writerow([patient, float(prob), int(output)])"
   ]
  }
 ],
 "metadata": {
  "kernelspec": {
   "display_name": "Python 3",
   "language": "python",
   "name": "python3"
  },
  "language_info": {
   "codemirror_mode": {
    "name": "ipython",
    "version": 3
   },
   "file_extension": ".py",
   "mimetype": "text/x-python",
   "name": "python",
   "nbconvert_exporter": "python",
   "pygments_lexer": "ipython3",
   "version": "3.8.1"
  }
 },
 "nbformat": 4,
 "nbformat_minor": 2
}
