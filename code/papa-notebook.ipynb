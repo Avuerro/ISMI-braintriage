{
 "cells": [
  {
   "cell_type": "markdown",
   "metadata": {},
   "source": [
    "## Imports"
   ]
  },
  {
   "cell_type": "code",
   "execution_count": 1,
   "metadata": {},
   "outputs": [],
   "source": [
    "import os"
   ]
  },
  {
   "cell_type": "markdown",
   "metadata": {},
   "source": [
    "## Generate Slice Data"
   ]
  },
  {
   "cell_type": "code",
   "execution_count": 2,
   "metadata": {},
   "outputs": [
    {
     "name": "stdout",
     "output_type": "stream",
     "text": [
      "../../data\n",
      "../../data/BrainTriage\n",
      "../../data/sliced-data\n",
      "../../data/sliced-data/train\n",
      "../../data/sliced-data/test\n",
      "../../data/data-split\n"
     ]
    }
   ],
   "source": [
    "DATA_DIR = os.path.join(\"..\",\"..\",\"data\")\n",
    "ORIGINAL_DATA_PATH = os.path.join(DATA_DIR,\"BrainTriage\")\n",
    "SLICED_DATA_DIR = os.path.join(DATA_DIR, \"sliced-data\")\n",
    "TRAIN_PATH = os.path.join(SLICED_DATA_DIR, \"train\")\n",
    "TEST_PATH = os.path.join(SLICED_DATA_DIR, \"test\")\n",
    "DATA_SPLIT_DIR = os.path.join(DATA_DIR, \"data-split\")\n",
    "TMP_DIR = \"tmp\"\n",
    "print(DATA_DIR, ORIGINAL_DATA_PATH, SLICED_DATA_DIR, TRAIN_PATH, TEST_PATH, DATA_SPLIT_DIR, sep=\"\\n\")"
   ]
  },
  {
   "cell_type": "code",
   "execution_count": null,
   "metadata": {},
   "outputs": [],
   "source": [
    "if not os.path.exists(TRAIN_PATH):\n",
    "    !python3 dataset/create_slices.py -d $ORIGINAL_DATA_PATH -o $SLICED_DATA_DIR --train\n",
    "if not os.path.exists(TEST_PATH):\n",
    "    !python3 dataset/create_slices.py -d $ORIGINAL_DATA_PATH -o $SLICED_DATA_DIR --test"
   ]
  },
  {
   "cell_type": "markdown",
   "metadata": {},
   "source": [
    "## Create Train/Validation Split"
   ]
  },
  {
   "cell_type": "code",
   "execution_count": null,
   "metadata": {},
   "outputs": [],
   "source": [
    "K = 10"
   ]
  },
  {
   "cell_type": "code",
   "execution_count": null,
   "metadata": {},
   "outputs": [],
   "source": [
    "if not os.path.exists(DATA_SPLIT_DIR):\n",
    "    !python3 dataset/create_data_split.py -k $K -d $TRAIN_PATH -ds $DATA_SPLIT_DIR"
   ]
  },
  {
   "cell_type": "markdown",
   "metadata": {},
   "source": [
    "## Train ResNet34"
   ]
  },
  {
   "cell_type": "code",
   "execution_count": null,
   "metadata": {},
   "outputs": [],
   "source": [
    "CNN_NAME = RESNET_TYPE = \"resnet34\"\n",
    "SEED = 420\n",
    "LR = 0.0001\n",
    "EPOCHS = 30\n",
    "BATCH_SIZE = 16\n",
    "N_FEATURES = 128\n",
    "FLIP_PROBABILITY = ROTATE_PROBABILITY = 0.5\n",
    "MODEL_DIR = \"../../models\""
   ]
  },
  {
   "cell_type": "code",
   "execution_count": null,
   "metadata": {},
   "outputs": [],
   "source": [
    "!python3 train/train-resnet.py $CNN_NAME $RESNET_TYPE -s $SEED -lr $LR -e $EPOCHS -b $BATCH_SIZE  \\\n",
    "                               -m $MODEL_DIR -f $N_FEATURES -d $TRAIN_PATH -ds $DATA_SPLIT_DIR \\\n",
    "                               -afp $FLIP_PROBABILITY -arp ROTATE_PROBABILITY -ts 0 32 --tuple "
   ]
  },
  {
   "cell_type": "markdown",
   "metadata": {},
   "source": [
    "## Train LSTM (Freeze ResNet34)"
   ]
  },
  {
   "cell_type": "code",
   "execution_count": null,
   "metadata": {},
   "outputs": [],
   "source": [
    "with open(os.path.join(TMP_DIR, CNN_NAME), 'r') as f:\n",
    "    CNN_LOC = f.read()\n",
    "LSTM_NAME = \"lstm\"\n",
    "BATCH_SIZE = 2"
   ]
  },
  {
   "cell_type": "code",
   "execution_count": null,
   "metadata": {},
   "outputs": [],
   "source": [
    "!python3 train/train-lstm.py $LSTM_NAME $RESNET_TYPE -s $SEED -d $TRAIN_PATH -ds $DATA_SPLIT_DIR -c $CNN_LOC \\\n",
    "                             -lr $LR -e $EPOCHS -b $BATCH_SIZE -m $MODEL_DIR -f $N_FEATURES \\\n",
    "                             -afp $FLIP_PROBABILITY -arp $ROTATE_PROBABILITY -ts 0 32 --tuple"
   ]
  },
  {
   "cell_type": "markdown",
   "metadata": {},
   "source": [
    "## Finetune CombinedNet"
   ]
  },
  {
   "cell_type": "code",
   "execution_count": null,
   "metadata": {},
   "outputs": [],
   "source": [
    "with open(os.path.join(TMP_DIR, LSTM_NAME), 'r') as f:\n",
    "    LSTM_LOC = f.read()\n",
    "COMBINED_NAME = \"combinednet\""
   ]
  },
  {
   "cell_type": "code",
   "execution_count": null,
   "metadata": {},
   "outputs": [],
   "source": [
    "!python3 train/train-combinednet.py $COMBINED_NAME $RESNET_TYPE -s $SEED -d TRAIN_PATH -ds $DATA_SPLIT_DIR \\\n",
    "                                    -l LSTM_LOC -lr $LR -e $EPOCHS -b $BATCH_SIZE -m $MODEL_DIR -f $N_FEATURES \\\n",
    "                                    -afp $FLIP_PROBABILTY -arp $ROTATE_PROBABILITY -ts 0 32 --tuple"
   ]
  },
  {
   "cell_type": "markdown",
   "metadata": {},
   "source": [
    "## Clean-up"
   ]
  },
  {
   "cell_type": "code",
   "execution_count": null,
   "metadata": {},
   "outputs": [],
   "source": [
    "try:\n",
    "    shutil.rmtree(TMP_DIR)\n",
    "except OSError as e:\n",
    "    print (\"Error: %s - %s.\" % (e.filename, e.strerror))"
   ]
  }
 ],
 "metadata": {
  "kernelspec": {
   "display_name": "Python 3",
   "language": "python",
   "name": "python3"
  },
  "language_info": {
   "codemirror_mode": {
    "name": "ipython",
    "version": 3
   },
   "file_extension": ".py",
   "mimetype": "text/x-python",
   "name": "python",
   "nbconvert_exporter": "python",
   "pygments_lexer": "ipython3",
   "version": "3.7.6"
  }
 },
 "nbformat": 4,
 "nbformat_minor": 4
}
